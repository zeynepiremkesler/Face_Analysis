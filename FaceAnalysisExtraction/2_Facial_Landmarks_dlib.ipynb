{
 "cells": [
  {
   "cell_type": "code",
   "execution_count": 1,
   "metadata": {},
   "outputs": [],
   "source": [
    "import numpy as np\n",
    "import cv2\n",
    "import dlib\n",
    "from imutils import face_utils"
   ]
  },
  {
   "cell_type": "code",
   "execution_count": 5,
   "metadata": {},
   "outputs": [],
   "source": [
    "img = cv2.imread('./images/girl.png')\n",
    "\n",
    "cv2.imshow('girl',img)\n",
    "cv2.waitKey(0)\n",
    "cv2.destroyAllWindows()"
   ]
  },
  {
   "cell_type": "code",
   "execution_count": 3,
   "metadata": {},
   "outputs": [],
   "source": [
    "shape_predictor = dlib.shape_predictor('./models/shape_predictor_68_face_landmarks.dat')\n",
    "shape_descriptor = dlib.face_recognition_model_v1('./models/dlib_face_recognition_resnet_model_v1.dat')"
   ]
  },
  {
   "cell_type": "code",
   "execution_count": 6,
   "metadata": {},
   "outputs": [],
   "source": [
    "img = cv2.imread('./images/girl.png')\n",
    "\n",
    "face_detector = dlib.get_frontal_face_detector()\n",
    "\n",
    "faces = face_detector(img)\n",
    "for box in faces:\n",
    "    pt1 = box.left(), box.top()\n",
    "    pt2 = box.right(),box.bottom()\n",
    "    #print(pt1,pt2)\n",
    "    \n",
    "    face_shape = shape_predictor(img,box)\n",
    "    face_shape_array = face_utils.shape_to_np(face_shape)\n",
    "    # shape features\n",
    "    face_descriptors = shape_descriptor.compute_face_descriptor(img,face_shape)\n",
    "    cv2.rectangle(img,pt1,pt2,(0,255,0))\n",
    "    for points in face_shape_array:\n",
    "        #print(points)\n",
    "        cv2.circle(img,tuple(points),3,(0,255,0),-1)\n",
    "        pass\n",
    "    \n",
    "    \n",
    "cv2.imshow('girl face detection',img)\n",
    "cv2.waitKey(0)\n",
    "cv2.destroyAllWindows()"
   ]
  },
  {
   "cell_type": "code",
   "execution_count": 15,
   "metadata": {},
   "outputs": [
    {
     "data": {
      "text/plain": [
       "True"
      ]
     },
     "execution_count": 15,
     "metadata": {},
     "output_type": "execute_result"
    }
   ],
   "source": [
    "cv2.imwrite('face_des.png',img)"
   ]
  },
  {
   "cell_type": "code",
   "execution_count": 7,
   "metadata": {},
   "outputs": [
    {
     "data": {
      "text/plain": [
       "dlib.vector([-0.122912, 0.126352, 0.0877077, -0.103509, -0.11298, -0.0178538, -0.131934, -0.0753639, 0.164523, -0.128531, 0.192641, -0.080967, -0.195524, -0.0284624, -0.0606988, 0.259382, -0.176004, -0.122276, -0.0320792, 0.0205417, 0.0374298, 0.0251716, 0.0651995, 0.0893108, -0.103029, -0.403407, -0.0961289, -0.0729469, -0.0552001, -0.0919216, -0.0594939, -0.0250439, -0.190665, -0.0554677, 0.0330583, 0.141298, -0.0299518, -0.13384, 0.161559, -0.0126257, -0.266413, 0.0455601, 0.0607114, 0.236676, 0.189006, 0.0315033, 0.049576, -0.175878, 0.178237, -0.131863, 0.0458499, 0.0938344, 0.0429922, 0.0445308, -0.000268461, -0.0782626, 0.0709053, 0.204195, -0.173517, -0.056575, 0.122763, -0.0614679, 0.0166945, -0.117914, 0.244285, 0.0789956, -0.107951, -0.238579, 0.127426, -0.139137, -0.0498377, 0.0380318, -0.140566, -0.17438, -0.319862, 0.0184531, 0.285738, 0.137397, -0.131725, 0.087328, -0.0491395, -0.00242182, 0.0154872, 0.214119, 0.0224108, 0.0557128, -0.0591236, -0.0153325, 0.227827, -0.0595999, 0.0444307, 0.222787, 0.00208726, 0.0398716, -0.0024211, -0.00687427, -0.180852, 0.0780848, -0.123843, 0.00730215, -0.0511495, 0.0313479, 0.0130189, 0.111372, -0.204943, 0.146884, -0.0678011, 0.00914753, 0.0163435, 0.00893976, -0.056445, -0.132546, 0.127748, -0.220445, 0.12295, 0.177668, 0.120745, 0.136364, 0.141979, 0.125994, 0.00625327, 0.0390894, -0.258206, 0.0297454, 0.123885, -0.0511776, 0.0872767, 0.0406905])"
      ]
     },
     "execution_count": 7,
     "metadata": {},
     "output_type": "execute_result"
    }
   ],
   "source": [
    "face_descriptors"
   ]
  },
  {
   "cell_type": "code",
   "execution_count": null,
   "metadata": {},
   "outputs": [],
   "source": []
  }
 ],
 "metadata": {
  "kernelspec": {
   "display_name": "Python 3",
   "language": "python",
   "name": "python3"
  },
  "language_info": {
   "codemirror_mode": {
    "name": "ipython",
    "version": 3
   },
   "file_extension": ".py",
   "mimetype": "text/x-python",
   "name": "python",
   "nbconvert_exporter": "python",
   "pygments_lexer": "ipython3",
   "version": "3.10.8 (v3.10.8:aaaf517424, Oct 11 2022, 10:14:40) [Clang 13.0.0 (clang-1300.0.29.30)]"
  },
  "vscode": {
   "interpreter": {
    "hash": "aee8b7b246df8f9039afb4144a1f6fd8d2ca17a180786b69acc140d282b71a49"
   }
  }
 },
 "nbformat": 4,
 "nbformat_minor": 4
}
