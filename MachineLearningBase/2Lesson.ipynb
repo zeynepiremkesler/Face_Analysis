{
 "cells": [
  {
   "cell_type": "code",
   "execution_count": 1,
   "id": "b3fa2756",
   "metadata": {},
   "outputs": [
    {
     "name": "stdout",
     "output_type": "stream",
     "text": [
      "15\n"
     ]
    }
   ],
   "source": [
    "add = lambda a : a + 10 #anonim fonksiyon tanımı\n",
    "\n",
    "print(add(5))"
   ]
  },
  {
   "cell_type": "code",
   "execution_count": 2,
   "id": "254cf9f1",
   "metadata": {},
   "outputs": [
    {
     "name": "stdout",
     "output_type": "stream",
     "text": [
      "120\n"
     ]
    }
   ],
   "source": [
    "sharp = lambda a, b : a * b #birden çok değişken alabilir \n",
    "\n",
    "print(sharp(10,12))"
   ]
  },
  {
   "cell_type": "code",
   "execution_count": 3,
   "id": "0c306a1d",
   "metadata": {},
   "outputs": [],
   "source": [
    "#def prog(positional arguments, *args , named arguments, **kwargs)\n",
    "#def prog(10, *args , a = 20 , **kwargs)"
   ]
  },
  {
   "cell_type": "code",
   "execution_count": 4,
   "id": "b23f1c33",
   "metadata": {},
   "outputs": [
    {
     "data": {
      "text/plain": [
       "(30, 60, 21535)"
      ]
     },
     "execution_count": 4,
     "metadata": {},
     "output_type": "execute_result"
    }
   ],
   "source": [
    "res = (lambda *args : sum(args))\n",
    "res(10,20), res(10,20,30), res(90,91,21354)"
   ]
  },
  {
   "cell_type": "code",
   "execution_count": 5,
   "id": "c0d7f80f",
   "metadata": {},
   "outputs": [
    {
     "data": {
      "text/plain": [
       "9381"
      ]
     },
     "execution_count": 5,
     "metadata": {},
     "output_type": "execute_result"
    }
   ],
   "source": [
    "res1 = (lambda **kwargs : sum(kwargs.values())) #değişken olarak yollanılarak işlem yapmak\n",
    "res1(a = 100,b = 1000, c = 8281)"
   ]
  },
  {
   "cell_type": "code",
   "execution_count": 6,
   "id": "b4afe3fa",
   "metadata": {},
   "outputs": [
    {
     "data": {
      "text/plain": [
       "[10, 20, 30, 40, 50, 60, 70, 80, 90]"
      ]
     },
     "execution_count": 6,
     "metadata": {},
     "output_type": "execute_result"
    }
   ],
   "source": [
    "#filter(function, iterable), map(function, iterable) , reduce(function, iterable)\n",
    "list1 = [10,20,30,40,50,60,70,80,90]\n",
    "\n",
    "def odd(n):\n",
    "    if n%2 == 0:\n",
    "        return True\n",
    "    else:\n",
    "        return False\n",
    "\n",
    "odd_num = list(filter(odd , list1))\n",
    "odd_num\n",
    "\n",
    "#bir liste ve dizi içerisindeki bütün elemanları tek seferde \n",
    "#işlemden geçirip işlem sonuçlarını başka bir listeye aktarma işlemi\n"
   ]
  },
  {
   "cell_type": "code",
   "execution_count": 7,
   "id": "0605fe41",
   "metadata": {},
   "outputs": [
    {
     "data": {
      "text/plain": [
       "[1, 3, 5, 7, 9]"
      ]
     },
     "execution_count": 7,
     "metadata": {},
     "output_type": "execute_result"
    }
   ],
   "source": [
    "list1 = [1,2,3,4,5,7,8,9]\n",
    "\n",
    "odd_num = list(filter(lambda n : n%2 == 1, list1))\n",
    "odd_num\n",
    "#yukarıdaki işlemin lambda ile yapılımı"
   ]
  },
  {
   "cell_type": "code",
   "execution_count": 8,
   "id": "0010c66c",
   "metadata": {},
   "outputs": [
    {
     "data": {
      "text/plain": [
       "[2, 6, 10, 14, 18]"
      ]
     },
     "execution_count": 8,
     "metadata": {},
     "output_type": "execute_result"
    }
   ],
   "source": [
    "def twice(n):\n",
    "    return n * 2\n",
    "\n",
    "doubles = list(map(twice, odd_num)) #liste veya dizideki bütün elemanları bir işlemden geçirir\n",
    "doubles"
   ]
  },
  {
   "cell_type": "code",
   "execution_count": 9,
   "id": "e523c62e",
   "metadata": {},
   "outputs": [
    {
     "data": {
      "text/plain": [
       "[2, 6, 10, 14, 18]"
      ]
     },
     "execution_count": 9,
     "metadata": {},
     "output_type": "execute_result"
    }
   ],
   "source": [
    "doubles = list(map(lambda n : n*2, odd_num))\n",
    "doubles"
   ]
  },
  {
   "cell_type": "code",
   "execution_count": 10,
   "id": "a703376a",
   "metadata": {},
   "outputs": [
    {
     "data": {
      "text/plain": [
       "50"
      ]
     },
     "execution_count": 10,
     "metadata": {},
     "output_type": "execute_result"
    }
   ],
   "source": [
    "from functools import reduce\n",
    "\n",
    "def add(a,b):\n",
    "    return a+b\n",
    "\n",
    "sumall = reduce(add, doubles)\n",
    "sumall"
   ]
  },
  {
   "cell_type": "code",
   "execution_count": 11,
   "id": "5e78abf5",
   "metadata": {},
   "outputs": [
    {
     "data": {
      "text/plain": [
       "50"
      ]
     },
     "execution_count": 11,
     "metadata": {},
     "output_type": "execute_result"
    }
   ],
   "source": [
    "sum_all = reduce(lambda a,b : a + b, doubles)\n",
    "sum_all"
   ]
  },
  {
   "cell_type": "code",
   "execution_count": 12,
   "id": "b4f82e54",
   "metadata": {},
   "outputs": [
    {
     "data": {
      "text/plain": [
       "50"
      ]
     },
     "execution_count": 12,
     "metadata": {},
     "output_type": "execute_result"
    }
   ],
   "source": [
    "sum_all = reduce(lambda a,b : a + b, list(map(lambda n : n*2, list(filter(lambda n : n%2 == 1, list1)))))\n",
    "sum_all # hepsini birlikte kullanmak"
   ]
  },
  {
   "cell_type": "code",
   "execution_count": 13,
   "id": "a971366f",
   "metadata": {},
   "outputs": [],
   "source": [
    "#Dosyalar"
   ]
  },
  {
   "cell_type": "code",
   "execution_count": 14,
   "id": "85999aa5",
   "metadata": {},
   "outputs": [
    {
     "name": "stdout",
     "output_type": "stream",
     "text": [
      "<_io.TextIOWrapper name='test_AI.txt' mode='w' encoding='cp1252'>\n"
     ]
    }
   ],
   "source": [
    "f = open(\"test_AI.txt\", \"w\")\n",
    "print(f)"
   ]
  },
  {
   "cell_type": "code",
   "execution_count": 15,
   "id": "9837c499",
   "metadata": {},
   "outputs": [],
   "source": [
    "f.write(\"Now is the time\")\n",
    "f.write(\"\\n to close the file\")\n",
    "f.close()"
   ]
  },
  {
   "cell_type": "code",
   "execution_count": 16,
   "id": "336c5fed",
   "metadata": {},
   "outputs": [
    {
     "name": "stdout",
     "output_type": "stream",
     "text": [
      "Now is the time\n",
      " to close the file\n"
     ]
    }
   ],
   "source": [
    "f = open(\"test_AI2.txt\", \"r\")\n",
    "text = f.read()\n",
    "print(text)"
   ]
  },
  {
   "cell_type": "code",
   "execution_count": 17,
   "id": "672f0810",
   "metadata": {},
   "outputs": [
    {
     "name": "stdout",
     "output_type": "stream",
     "text": [
      "Now i\n"
     ]
    }
   ],
   "source": [
    "f = open(\"test_AI2.txt\", \"r\")\n",
    "print(f.read(5))"
   ]
  },
  {
   "cell_type": "code",
   "execution_count": 18,
   "id": "66e25156",
   "metadata": {},
   "outputs": [
    {
     "name": "stdout",
     "output_type": "stream",
     "text": [
      "s the time\n",
      " to close the file\n"
     ]
    }
   ],
   "source": [
    "print(f.read(1000006))"
   ]
  },
  {
   "cell_type": "code",
   "execution_count": 19,
   "id": "a6b54861",
   "metadata": {},
   "outputs": [],
   "source": [
    "fo = open(\"foo_AI.txt\", \"w\")\n",
    "fo.write(\"Python is so basic language.\\nSTFU!\\n\")\n",
    "fo.close()"
   ]
  },
  {
   "cell_type": "code",
   "execution_count": 20,
   "id": "a97d6ab3",
   "metadata": {},
   "outputs": [
    {
     "name": "stdout",
     "output_type": "stream",
     "text": [
      "String is :  Python is so basi\n"
     ]
    }
   ],
   "source": [
    "fo = open(\"foo_AI.txt\", \"r+\")\n",
    "mystr1 = fo.read(17)\n",
    "print(\"String is : \", mystr1)"
   ]
  },
  {
   "cell_type": "code",
   "execution_count": 21,
   "id": "a3a0a3c8",
   "metadata": {},
   "outputs": [
    {
     "name": "stdout",
     "output_type": "stream",
     "text": [
      "Cursor location :  17\n"
     ]
    }
   ],
   "source": [
    "position = fo.tell()\n",
    "print(\"Cursor location : \", position)"
   ]
  },
  {
   "cell_type": "code",
   "execution_count": 22,
   "id": "486f0888",
   "metadata": {},
   "outputs": [
    {
     "name": "stdout",
     "output_type": "stream",
     "text": [
      "New location :  Python is so basic language.\n",
      "\n"
     ]
    }
   ],
   "source": [
    "position = fo.seek(0,0)\n",
    "mystr1 = fo.read(29)\n",
    "print(\"New location : \", mystr1)\n",
    "fo.close()"
   ]
  },
  {
   "cell_type": "code",
   "execution_count": 23,
   "id": "301805a2",
   "metadata": {},
   "outputs": [
    {
     "name": "stdout",
     "output_type": "stream",
     "text": [
      "Hata : Dosya bulunamadı yada oluşturulamıyor!\n"
     ]
    }
   ],
   "source": [
    "try:\n",
    "    fh = open(\"test_AI3.txt\" , \"r\")\n",
    "    fh.write(\"GKLERJHLGŞENRDŞFOIGBJR ASÖDMHASKLJFHBQEWK ASLDHGOIUERGVFPOJKEDRG OEHFOWIESFJ\")\n",
    "except IOError:\n",
    "    print(\"Hata : Dosya bulunamadı yada oluşturulamıyor!\")\n",
    "else:\n",
    "    print(\"Dosya başarıyla oluşturuldu ve okundu\")\n"
   ]
  },
  {
   "cell_type": "code",
   "execution_count": 24,
   "id": "92bce5cf",
   "metadata": {},
   "outputs": [
    {
     "name": "stdout",
     "output_type": "stream",
     "text": [
      "Hata : Dosya bulunamadı yada oluşturulamıyor!\n"
     ]
    }
   ],
   "source": [
    "try:\n",
    "    fh = open(\"test_AI3.txt\" , \"w\")\n",
    "    fh.write(\"lkdjslfksdjfkljsdklfjsdklfjskdlf\")\n",
    "    fh.close()\n",
    "finally: # her durumun sonunda çağırılır\n",
    "    print(\"Hata : Dosya bulunamadı yada oluşturulamıyor!\")"
   ]
  },
  {
   "cell_type": "code",
   "execution_count": 25,
   "id": "7b367f7c",
   "metadata": {},
   "outputs": [
    {
     "name": "stdout",
     "output_type": "stream",
     "text": [
      "Ayşe\n",
      "1\n"
     ]
    }
   ],
   "source": [
    "#Dicts 'sözlükler'\n",
    "dict = {'Name' : 'Ayşe', 'Age' : 1, 'Class':'First'}\n",
    "print(dict['Name'])\n",
    "print(dict['Age'])"
   ]
  },
  {
   "cell_type": "code",
   "execution_count": 26,
   "id": "dc7426ae",
   "metadata": {},
   "outputs": [],
   "source": [
    "del dict['Name']"
   ]
  },
  {
   "cell_type": "code",
   "execution_count": 27,
   "id": "bd5dcbde",
   "metadata": {},
   "outputs": [
    {
     "data": {
      "text/plain": [
       "0.22212743759155273"
      ]
     },
     "execution_count": 27,
     "metadata": {},
     "output_type": "execute_result"
    }
   ],
   "source": [
    "#Alttaki ile kıyaslandığında numpy ile 3 boyutlu işlemlerde python listelerinden kat ve kat daha hızlı\n",
    "#olduğunu görüyoruz\n",
    "import time \n",
    "def trad_version():\n",
    "    t1=time.time()\n",
    "    X=range(1000000)\n",
    "    Y=range(1000000)\n",
    "    Z=[]\n",
    "    for i in range(len(X)):\n",
    "        Z.append(X[i]+Y[i])\n",
    "    return time.time() - t1\n",
    "\n",
    "trad_version()"
   ]
  },
  {
   "cell_type": "code",
   "execution_count": 30,
   "id": "eb28907e",
   "metadata": {},
   "outputs": [
    {
     "ename": "NameError",
     "evalue": "name 'arange' is not defined",
     "output_type": "error",
     "traceback": [
      "\u001b[1;31m---------------------------------------------------------------------------\u001b[0m",
      "\u001b[1;31mNameError\u001b[0m                                 Traceback (most recent call last)",
      "Input \u001b[1;32mIn [30]\u001b[0m, in \u001b[0;36m<cell line: 10>\u001b[1;34m()\u001b[0m\n\u001b[0;32m      7\u001b[0m     Z \u001b[38;5;241m=\u001b[39m X\u001b[38;5;241m+\u001b[39mY\n\u001b[0;32m      8\u001b[0m     \u001b[38;5;28;01mreturn\u001b[39;00m time\u001b[38;5;241m.\u001b[39mtime()\u001b[38;5;241m-\u001b[39mt1\n\u001b[1;32m---> 10\u001b[0m \u001b[43mnumpy_version\u001b[49m\u001b[43m(\u001b[49m\u001b[43m)\u001b[49m\n",
      "Input \u001b[1;32mIn [30]\u001b[0m, in \u001b[0;36mnumpy_version\u001b[1;34m()\u001b[0m\n\u001b[0;32m      3\u001b[0m \u001b[38;5;28;01mdef\u001b[39;00m \u001b[38;5;21mnumpy_version\u001b[39m():\n\u001b[0;32m      4\u001b[0m     t1 \u001b[38;5;241m=\u001b[39m time\u001b[38;5;241m.\u001b[39mtime()\n\u001b[1;32m----> 5\u001b[0m     X\u001b[38;5;241m=\u001b[39m \u001b[43marange\u001b[49m(\u001b[38;5;241m0\u001b[39m,\u001b[38;5;241m1000000\u001b[39m)\n\u001b[0;32m      6\u001b[0m     Y\u001b[38;5;241m=\u001b[39m arange(\u001b[38;5;241m0\u001b[39m,\u001b[38;5;241m1000000\u001b[39m)\n\u001b[0;32m      7\u001b[0m     Z \u001b[38;5;241m=\u001b[39m X\u001b[38;5;241m+\u001b[39mY\n",
      "\u001b[1;31mNameError\u001b[0m: name 'arange' is not defined"
     ]
    }
   ],
   "source": [
    "#Yukarıdaki kodun numpy versiyonu\n",
    "import numpy\n",
    "def numpy_version():\n",
    "    t1 = time.time()\n",
    "    X= arange(1000000)\n",
    "    Y= arange(1000000)\n",
    "    Z = X+Y\n",
    "    return time.time()-t1\n",
    "numpy_version()"
   ]
  },
  {
   "cell_type": "code",
   "execution_count": 32,
   "id": "0edfcd79",
   "metadata": {},
   "outputs": [],
   "source": [
    "#Olası uyarıları gözardı etmek için kullanılır kod her halükarda çalışır\n",
    "import numpy as np\n",
    "import warnings\n",
    "warnings.filterwarnings('ignore')"
   ]
  },
  {
   "cell_type": "code",
   "execution_count": 33,
   "id": "90de6845",
   "metadata": {},
   "outputs": [
    {
     "data": {
      "text/plain": [
       "[10, 20, 30, 40, 50, 60, 70]"
      ]
     },
     "execution_count": 33,
     "metadata": {},
     "output_type": "execute_result"
    }
   ],
   "source": [
    "list1 = [10,20,30,40,50,60,70]\n",
    "list1"
   ]
  },
  {
   "cell_type": "code",
   "execution_count": 34,
   "id": "9c385645",
   "metadata": {},
   "outputs": [
    {
     "data": {
      "text/plain": [
       "list"
      ]
     },
     "execution_count": 34,
     "metadata": {},
     "output_type": "execute_result"
    }
   ],
   "source": [
    "type(list1)"
   ]
  },
  {
   "cell_type": "code",
   "execution_count": 35,
   "id": "8c5d8d46",
   "metadata": {},
   "outputs": [
    {
     "data": {
      "text/plain": [
       "array([10, 20, 30, 40, 50, 60, 70])"
      ]
     },
     "execution_count": 35,
     "metadata": {},
     "output_type": "execute_result"
    }
   ],
   "source": [
    "#normal bir listeyi numpy listesine çevirmek\n",
    "arr1 = np.array(list1)\n",
    "arr1"
   ]
  },
  {
   "cell_type": "code",
   "execution_count": 36,
   "id": "680b0909",
   "metadata": {},
   "outputs": [
    {
     "data": {
      "text/plain": [
       "<memory at 0x0000021FE4F42C40>"
      ]
     },
     "execution_count": 36,
     "metadata": {},
     "output_type": "execute_result"
    }
   ],
   "source": [
    "arr1.data #ram deki konumu bulmak"
   ]
  },
  {
   "cell_type": "code",
   "execution_count": 37,
   "id": "9cb7b941",
   "metadata": {},
   "outputs": [
    {
     "data": {
      "text/plain": [
       "numpy.ndarray"
      ]
     },
     "execution_count": 37,
     "metadata": {},
     "output_type": "execute_result"
    }
   ],
   "source": [
    "type(arr1)"
   ]
  },
  {
   "cell_type": "code",
   "execution_count": 38,
   "id": "e0019c0b",
   "metadata": {},
   "outputs": [
    {
     "data": {
      "text/plain": [
       "dtype('int32')"
      ]
     },
     "execution_count": 38,
     "metadata": {},
     "output_type": "execute_result"
    }
   ],
   "source": [
    "arr1.dtype#liste içindeki data tipi"
   ]
  },
  {
   "cell_type": "code",
   "execution_count": 39,
   "id": "29b0055a",
   "metadata": {},
   "outputs": [
    {
     "data": {
      "text/plain": [
       "array([10., 20., 30., 40., 50., 60., 70.])"
      ]
     },
     "execution_count": 39,
     "metadata": {},
     "output_type": "execute_result"
    }
   ],
   "source": [
    "arr1.astype(float)#liste içi veri tiplerini değiştirme"
   ]
  },
  {
   "cell_type": "code",
   "execution_count": 40,
   "id": "f51c6341",
   "metadata": {},
   "outputs": [
    {
     "data": {
      "text/plain": [
       "array([ 0, 10, 20, 30, 40, 50, 60, 70, 80, 90])"
      ]
     },
     "execution_count": 40,
     "metadata": {},
     "output_type": "execute_result"
    }
   ],
   "source": [
    "np.arange(0, 100,10)#belirli aralıkta numpy listesi oluşturma"
   ]
  },
  {
   "cell_type": "code",
   "execution_count": 41,
   "id": "878452bc",
   "metadata": {},
   "outputs": [
    {
     "data": {
      "text/plain": [
       "array([0., 0., 0., 0., 0., 0., 0., 0., 0., 0.])"
      ]
     },
     "execution_count": 41,
     "metadata": {},
     "output_type": "execute_result"
    }
   ],
   "source": [
    "np.zeros(10)#hazır 10 adet 0 matris üretmek için kullanılır"
   ]
  },
  {
   "cell_type": "code",
   "execution_count": 42,
   "id": "3cc64bff",
   "metadata": {},
   "outputs": [
    {
     "data": {
      "text/plain": [
       "array([1., 1., 1., 1., 1., 1., 1., 1., 1., 1.])"
      ]
     },
     "execution_count": 42,
     "metadata": {},
     "output_type": "execute_result"
    }
   ],
   "source": [
    "np.ones(10)#hazır 10 adet 1 matris üretmek için kullanılır"
   ]
  },
  {
   "cell_type": "code",
   "execution_count": 43,
   "id": "0a9f0c4f",
   "metadata": {},
   "outputs": [
    {
     "data": {
      "text/plain": [
       "array([10, 10, 10, 10, 10])"
      ]
     },
     "execution_count": 43,
     "metadata": {},
     "output_type": "execute_result"
    }
   ],
   "source": [
    "np.repeat(10,5)#10'u 5 kere tekrarlayıp numpy listesi oluşturur"
   ]
  },
  {
   "cell_type": "code",
   "execution_count": 44,
   "id": "c077f7e6",
   "metadata": {},
   "outputs": [
    {
     "data": {
      "text/plain": [
       "array([10, 10, 10, 20, 20, 20, 30, 30, 30])"
      ]
     },
     "execution_count": 44,
     "metadata": {},
     "output_type": "execute_result"
    }
   ],
   "source": [
    "a = np.array([10,20,30])\n",
    "np.repeat(a,3)#ama burda liste içerisindekileri tekrar eder"
   ]
  },
  {
   "cell_type": "code",
   "execution_count": 45,
   "id": "e1f21404",
   "metadata": {},
   "outputs": [
    {
     "data": {
      "text/plain": [
       "array([10, 10, 10, 10, 10])"
      ]
     },
     "execution_count": 45,
     "metadata": {},
     "output_type": "execute_result"
    }
   ],
   "source": [
    "np.full(5, 10)#tamamen 10 lardan oluşan bir liste oluşturmak"
   ]
  },
  {
   "cell_type": "code",
   "execution_count": 46,
   "id": "cfc901df",
   "metadata": {},
   "outputs": [
    {
     "data": {
      "text/plain": [
       "array([ 1,  3,  5,  7,  9, 11, 13, 15, 17, 19])"
      ]
     },
     "execution_count": 46,
     "metadata": {},
     "output_type": "execute_result"
    }
   ],
   "source": [
    "ar1 = np.arange(1,20)\n",
    "ar1[ar1%2 == 1]#liste içindeki tek sayıları bastırma"
   ]
  },
  {
   "cell_type": "code",
   "execution_count": 47,
   "id": "e31eab59",
   "metadata": {},
   "outputs": [
    {
     "data": {
      "text/plain": [
       "array([ 2,  4,  6,  8, 10, 12, 14, 16, 18])"
      ]
     },
     "execution_count": 47,
     "metadata": {},
     "output_type": "execute_result"
    }
   ],
   "source": [
    "ar1[ar1%2 == 0]"
   ]
  },
  {
   "cell_type": "code",
   "execution_count": 48,
   "id": "b05da8b1",
   "metadata": {},
   "outputs": [
    {
     "data": {
      "text/plain": [
       "array([10.        , 13.33333333, 16.66666667, 20.        ])"
      ]
     },
     "execution_count": 48,
     "metadata": {},
     "output_type": "execute_result"
    }
   ],
   "source": [
    "np.linspace(10,20,4)#eşit mesafeli sayı üretir"
   ]
  },
  {
   "cell_type": "code",
   "execution_count": 49,
   "id": "c63f79f6",
   "metadata": {},
   "outputs": [
    {
     "data": {
      "text/plain": [
       "array([0.10000554, 0.97551956, 0.64130648, 0.9560397 ])"
      ]
     },
     "execution_count": 49,
     "metadata": {},
     "output_type": "execute_result"
    }
   ],
   "source": [
    "np.random.random(4)#0 ve 1 arasında rasgele değer üretir"
   ]
  },
  {
   "cell_type": "code",
   "execution_count": 50,
   "id": "fcedad03",
   "metadata": {},
   "outputs": [
    {
     "data": {
      "text/plain": [
       "array([439, 288, 419, 300, 444])"
      ]
     },
     "execution_count": 50,
     "metadata": {},
     "output_type": "execute_result"
    }
   ],
   "source": [
    "np.random.randint(0,500,5)#belirtilen aralıkta rasgele sayı üretir"
   ]
  },
  {
   "cell_type": "code",
   "execution_count": 51,
   "id": "cc3f4957",
   "metadata": {},
   "outputs": [
    {
     "data": {
      "text/plain": [
       "array([124, 292, 118, 383, 272, 458, 379, 497, 424, 468])"
      ]
     },
     "execution_count": 51,
     "metadata": {},
     "output_type": "execute_result"
    }
   ],
   "source": [
    "np.random.randint(0,500,10)"
   ]
  },
  {
   "cell_type": "code",
   "execution_count": 52,
   "id": "9640f0c7",
   "metadata": {},
   "outputs": [
    {
     "data": {
      "text/plain": [
       "array([66, 92, 98, 17, 83, 57, 86, 97, 96, 47])"
      ]
     },
     "execution_count": 52,
     "metadata": {},
     "output_type": "execute_result"
    }
   ],
   "source": [
    "np.random.seed(123)#belirli çekirdek değeri ile sayı üretimi\n",
    "np.random.randint(0,100,10)"
   ]
  },
  {
   "cell_type": "code",
   "execution_count": 53,
   "id": "6255d94f",
   "metadata": {},
   "outputs": [
    {
     "data": {
      "text/plain": [
       "array([95, 11, 81, 70, 63, 87, 75,  9, 77, 40])"
      ]
     },
     "execution_count": 53,
     "metadata": {},
     "output_type": "execute_result"
    }
   ],
   "source": [
    "np.random.seed(101)\n",
    "np.random.randint(0,100,10)"
   ]
  },
  {
   "cell_type": "code",
   "execution_count": 54,
   "id": "2da88224",
   "metadata": {},
   "outputs": [
    {
     "data": {
      "text/plain": [
       "array([6.5348311 , 9.4680654 , 8.60771931, 5.94969477, 7.77113796,\n",
       "       6.76065977, 5.90946201, 8.92800881, 9.82741611, 6.16176831])"
      ]
     },
     "execution_count": 54,
     "metadata": {},
     "output_type": "execute_result"
    }
   ],
   "source": [
    "f1 = np.random.uniform(5,10, size=(10))\n",
    "f1"
   ]
  },
  {
   "cell_type": "code",
   "execution_count": 55,
   "id": "733bb7c7",
   "metadata": {},
   "outputs": [
    {
     "data": {
      "text/plain": [
       "array([6., 9., 8., 5., 7., 6., 5., 8., 9., 6.])"
      ]
     },
     "execution_count": 55,
     "metadata": {},
     "output_type": "execute_result"
    }
   ],
   "source": [
    "np.floor(f1)"
   ]
  },
  {
   "cell_type": "code",
   "execution_count": 56,
   "id": "f9aa3934",
   "metadata": {},
   "outputs": [
    {
     "data": {
      "text/plain": [
       "array([6, 9, 8, 5, 7, 6, 5, 8, 9, 6])"
      ]
     },
     "execution_count": 56,
     "metadata": {},
     "output_type": "execute_result"
    }
   ],
   "source": [
    "f1.astype(int)"
   ]
  },
  {
   "cell_type": "code",
   "execution_count": 57,
   "id": "4a2780c3",
   "metadata": {},
   "outputs": [
    {
     "data": {
      "text/plain": [
       "array([ 0.18869531, -0.75887206, -0.93323722,  0.95505651,  0.19079432,\n",
       "        1.97875732,  2.60596728,  0.68350889,  0.30266545,  1.69372293])"
      ]
     },
     "execution_count": 57,
     "metadata": {},
     "output_type": "execute_result"
    }
   ],
   "source": [
    "b2 = np.random.randn(10)#ortalaması 0 ver. 1 olan kısacası gauss eğrisi ile liste oluşturulur\n",
    "b2"
   ]
  },
  {
   "cell_type": "code",
   "execution_count": 58,
   "id": "93b06cd8",
   "metadata": {},
   "outputs": [
    {
     "data": {
      "text/plain": [
       "array([10, 20, 30, 40, 50, 60, 70])"
      ]
     },
     "execution_count": 58,
     "metadata": {},
     "output_type": "execute_result"
    }
   ],
   "source": [
    "arr1"
   ]
  },
  {
   "cell_type": "code",
   "execution_count": 59,
   "id": "5081c30a",
   "metadata": {},
   "outputs": [
    {
     "name": "stdout",
     "output_type": "stream",
     "text": [
      "(0,) 10\n",
      "(1,) 20\n",
      "(2,) 30\n",
      "(3,) 40\n",
      "(4,) 50\n",
      "(5,) 60\n",
      "(6,) 70\n"
     ]
    }
   ],
   "source": [
    "#index ve value şeklinde işlemi kısaca yapmak\n",
    "for index, value in np.ndenumerate(arr1):\n",
    "    print(index, value)"
   ]
  },
  {
   "cell_type": "code",
   "execution_count": 60,
   "id": "f12730d4",
   "metadata": {},
   "outputs": [
    {
     "data": {
      "text/plain": [
       "array([ 1,  2,  3,  4,  5,  6,  7,  8,  9, 10, 11, 12, 13, 14, 15, 16, 17,\n",
       "       18, 19])"
      ]
     },
     "execution_count": 60,
     "metadata": {},
     "output_type": "execute_result"
    }
   ],
   "source": [
    "#işlemler\n",
    "arr2 = np.arange(1,20)\n",
    "arr2"
   ]
  },
  {
   "cell_type": "code",
   "execution_count": 61,
   "id": "e73e4a60",
   "metadata": {},
   "outputs": [
    {
     "data": {
      "text/plain": [
       "190"
      ]
     },
     "execution_count": 61,
     "metadata": {},
     "output_type": "execute_result"
    }
   ],
   "source": [
    "arr2.sum()#toplama"
   ]
  },
  {
   "cell_type": "code",
   "execution_count": 62,
   "id": "f1fc6366",
   "metadata": {},
   "outputs": [
    {
     "data": {
      "text/plain": [
       "array([  1,   3,   6,  10,  15,  21,  28,  36,  45,  55,  66,  78,  91,\n",
       "       105, 120, 136, 153, 171, 190], dtype=int32)"
      ]
     },
     "execution_count": 62,
     "metadata": {},
     "output_type": "execute_result"
    }
   ],
   "source": [
    "np.cumsum(arr2)#kendinden öncekileri toplayarak gitme"
   ]
  },
  {
   "cell_type": "code",
   "execution_count": 63,
   "id": "f4c58b15",
   "metadata": {},
   "outputs": [
    {
     "data": {
      "text/plain": [
       "array([[ 1,  2,  3,  4],\n",
       "       [ 5,  6,  7,  8],\n",
       "       [ 9, 10, 11, 12],\n",
       "       [13, 14, 15, 16]])"
      ]
     },
     "execution_count": 63,
     "metadata": {},
     "output_type": "execute_result"
    }
   ],
   "source": [
    "A = np.array([[1,2,3,4],[5,6,7,8],[9,10,11,12],[13,14,15,16]])#2 boyutlu liste yapmak\n",
    "A"
   ]
  },
  {
   "cell_type": "code",
   "execution_count": 64,
   "id": "a280add6",
   "metadata": {},
   "outputs": [
    {
     "data": {
      "text/plain": [
       "(136, 16, 1)"
      ]
     },
     "execution_count": 64,
     "metadata": {},
     "output_type": "execute_result"
    }
   ],
   "source": [
    "A.sum(), A.max(), A.min()"
   ]
  },
  {
   "cell_type": "code",
   "execution_count": 65,
   "id": "f7ebc617",
   "metadata": {},
   "outputs": [
    {
     "data": {
      "text/plain": [
       "array([1, 2, 3, 4])"
      ]
     },
     "execution_count": 65,
     "metadata": {},
     "output_type": "execute_result"
    }
   ],
   "source": [
    "np.amin(A, axis = 0)"
   ]
  },
  {
   "cell_type": "code",
   "execution_count": 66,
   "id": "7528186e",
   "metadata": {},
   "outputs": [
    {
     "data": {
      "text/plain": [
       "array([ 1,  5,  9, 13])"
      ]
     },
     "execution_count": 66,
     "metadata": {},
     "output_type": "execute_result"
    }
   ],
   "source": [
    "np.amin(A, axis = 1)"
   ]
  },
  {
   "cell_type": "code",
   "execution_count": 67,
   "id": "8b932f0a",
   "metadata": {},
   "outputs": [
    {
     "data": {
      "text/plain": [
       "4.6097722286464435"
      ]
     },
     "execution_count": 67,
     "metadata": {},
     "output_type": "execute_result"
    }
   ],
   "source": [
    "np.std(A)#standart sapma"
   ]
  },
  {
   "cell_type": "code",
   "execution_count": 68,
   "id": "b196f775",
   "metadata": {},
   "outputs": [
    {
     "name": "stdout",
     "output_type": "stream",
     "text": [
      "(0, 0) 1\n",
      "(0, 1) 2\n",
      "(0, 2) 3\n",
      "(0, 3) 4\n",
      "(1, 0) 5\n",
      "(1, 1) 6\n",
      "(1, 2) 7\n",
      "(1, 3) 8\n",
      "(2, 0) 9\n",
      "(2, 1) 10\n",
      "(2, 2) 11\n",
      "(2, 3) 12\n",
      "(3, 0) 13\n",
      "(3, 1) 14\n",
      "(3, 2) 15\n",
      "(3, 3) 16\n"
     ]
    }
   ],
   "source": [
    "for index, value in np.ndenumerate(A):\n",
    "    print(index, value)"
   ]
  },
  {
   "cell_type": "code",
   "execution_count": 69,
   "id": "cc680458",
   "metadata": {},
   "outputs": [
    {
     "data": {
      "text/plain": [
       "7"
      ]
     },
     "execution_count": 69,
     "metadata": {},
     "output_type": "execute_result"
    }
   ],
   "source": [
    "#elemanlara erişim\n",
    "a= np.array([7,5,3,6,8,9,0,1,2,5])\n",
    "a[0]"
   ]
  },
  {
   "cell_type": "code",
   "execution_count": 70,
   "id": "fa5ecd5b",
   "metadata": {},
   "outputs": [
    {
     "data": {
      "text/plain": [
       "array([5, 3, 6, 8, 9, 0, 1, 2, 5])"
      ]
     },
     "execution_count": 70,
     "metadata": {},
     "output_type": "execute_result"
    }
   ],
   "source": [
    "a[1:]"
   ]
  },
  {
   "cell_type": "code",
   "execution_count": 71,
   "id": "ed46f621",
   "metadata": {},
   "outputs": [
    {
     "data": {
      "text/plain": [
       "array([5, 3, 6])"
      ]
     },
     "execution_count": 71,
     "metadata": {},
     "output_type": "execute_result"
    }
   ],
   "source": [
    "a[1:4]"
   ]
  },
  {
   "cell_type": "code",
   "execution_count": 72,
   "id": "43d3d09b",
   "metadata": {},
   "outputs": [
    {
     "data": {
      "text/plain": [
       "5"
      ]
     },
     "execution_count": 72,
     "metadata": {},
     "output_type": "execute_result"
    }
   ],
   "source": [
    "a[-1]"
   ]
  },
  {
   "cell_type": "code",
   "execution_count": 73,
   "id": "8c92814e",
   "metadata": {},
   "outputs": [
    {
     "data": {
      "text/plain": [
       "array([ 1,  2,  3,  4,  5,  6,  7,  8,  9, 10, 11, 12, 13, 14, 15, 16, 17,\n",
       "       18, 19])"
      ]
     },
     "execution_count": 73,
     "metadata": {},
     "output_type": "execute_result"
    }
   ],
   "source": [
    "ar = np.arange(1,20)\n",
    "ar"
   ]
  },
  {
   "cell_type": "code",
   "execution_count": 74,
   "id": "ca29e35d",
   "metadata": {},
   "outputs": [
    {
     "data": {
      "text/plain": [
       "array([ 1,  0,  3,  0,  5,  0,  7,  0,  9,  0, 11,  0, 13,  0, 15,  0, 17,\n",
       "        0, 19])"
      ]
     },
     "execution_count": 74,
     "metadata": {},
     "output_type": "execute_result"
    }
   ],
   "source": [
    "rep1 = np.where(ar%2 == 0, 0, ar)#where ile koşullu işlem yapmak\n",
    "rep1"
   ]
  },
  {
   "cell_type": "code",
   "execution_count": 75,
   "id": "32644016",
   "metadata": {},
   "outputs": [
    {
     "data": {
      "text/plain": [
       "array([10, 20, 30, 10, 10, 20, 20, 30, 30])"
      ]
     },
     "execution_count": 75,
     "metadata": {},
     "output_type": "execute_result"
    }
   ],
   "source": [
    "ar2 = np.array([10,20,30,10,10,20,20,30,30])\n",
    "ar2"
   ]
  },
  {
   "cell_type": "code",
   "execution_count": 76,
   "id": "9ff38056",
   "metadata": {},
   "outputs": [
    {
     "data": {
      "text/plain": [
       "array([ 0, 20, 30,  0,  0, 20, 20, 30, 30])"
      ]
     },
     "execution_count": 76,
     "metadata": {},
     "output_type": "execute_result"
    }
   ],
   "source": [
    "rep2 = np.where(ar2==10,0,ar2)\n",
    "rep2"
   ]
  },
  {
   "cell_type": "code",
   "execution_count": 77,
   "id": "76d82a65",
   "metadata": {},
   "outputs": [
    {
     "data": {
      "text/plain": [
       "array([  1,  41,  81, 121, 161, 201, 241, 281, 321, 361, 401, 441, 481])"
      ]
     },
     "execution_count": 77,
     "metadata": {},
     "output_type": "execute_result"
    }
   ],
   "source": [
    "p2 = np.arange(1,500, 40)\n",
    "p2"
   ]
  },
  {
   "cell_type": "code",
   "execution_count": 78,
   "id": "206637b8",
   "metadata": {},
   "outputs": [
    {
     "data": {
      "text/plain": [
       "array([ 33,  41,  81,  55, 161,  99, 241, 281, 321, 361, 401, 441, 481])"
      ]
     },
     "execution_count": 78,
     "metadata": {},
     "output_type": "execute_result"
    }
   ],
   "source": [
    "np.put(p2,[0,3,5], [33,55,99])#verilen indexlerdeki değerleri verilen değerler ile değiştirme\n",
    "p2"
   ]
  },
  {
   "cell_type": "code",
   "execution_count": 79,
   "id": "bc2f24ed",
   "metadata": {},
   "outputs": [],
   "source": [
    "#Eksik değerler ile ilgilenme"
   ]
  },
  {
   "cell_type": "code",
   "execution_count": 80,
   "id": "5d24dca0",
   "metadata": {},
   "outputs": [
    {
     "data": {
      "text/plain": [
       "array([10., nan, 20., 30., 40., nan, 90., inf])"
      ]
     },
     "execution_count": 80,
     "metadata": {},
     "output_type": "execute_result"
    }
   ],
   "source": [
    "a = np.array([10, np.nan, 20,30,40, np.nan,90, np.inf])\n",
    "a"
   ]
  },
  {
   "cell_type": "code",
   "execution_count": 81,
   "id": "f60d4ffd",
   "metadata": {},
   "outputs": [
    {
     "data": {
      "text/plain": [
       "array([False,  True, False, False, False,  True, False, False])"
      ]
     },
     "execution_count": 81,
     "metadata": {},
     "output_type": "execute_result"
    }
   ],
   "source": [
    "np.isnan(a)"
   ]
  },
  {
   "cell_type": "code",
   "execution_count": 82,
   "id": "9a124e9d",
   "metadata": {},
   "outputs": [
    {
     "data": {
      "text/plain": [
       "array([10., 99., 20., 30., 40., 99., 90., inf])"
      ]
     },
     "execution_count": 82,
     "metadata": {},
     "output_type": "execute_result"
    }
   ],
   "source": [
    "a[np.isnan(a)] = 99\n",
    "a"
   ]
  },
  {
   "cell_type": "code",
   "execution_count": 83,
   "id": "2cbf533b",
   "metadata": {},
   "outputs": [
    {
     "data": {
      "text/plain": [
       "array([[ 1.,  2.,  3., nan],\n",
       "       [nan,  6.,  7.,  8.],\n",
       "       [10., nan, 12., 13.],\n",
       "       [14., 26., 71., 23.]])"
      ]
     },
     "execution_count": 83,
     "metadata": {},
     "output_type": "execute_result"
    }
   ],
   "source": [
    "A = np.array([[1,2,3,np.nan],[np.nan,6,7,8],[10,np.nan,12,13],[14,26,71,23]])\n",
    "A"
   ]
  },
  {
   "cell_type": "code",
   "execution_count": 84,
   "id": "ce5a35ba",
   "metadata": {},
   "outputs": [
    {
     "data": {
      "text/plain": [
       "array([[False, False, False,  True],\n",
       "       [ True, False, False, False],\n",
       "       [False,  True, False, False],\n",
       "       [False, False, False, False]])"
      ]
     },
     "execution_count": 84,
     "metadata": {},
     "output_type": "execute_result"
    }
   ],
   "source": [
    "np.isnan(A)"
   ]
  },
  {
   "cell_type": "code",
   "execution_count": 85,
   "id": "3e55c86e",
   "metadata": {},
   "outputs": [
    {
     "data": {
      "text/plain": [
       "(array([0, 1, 2], dtype=int64), array([3, 0, 1], dtype=int64))"
      ]
     },
     "execution_count": 85,
     "metadata": {},
     "output_type": "execute_result"
    }
   ],
   "source": [
    "np.where(np.isnan(A))"
   ]
  }
 ],
 "metadata": {
  "kernelspec": {
   "display_name": "Python 3 (ipykernel)",
   "language": "python",
   "name": "python3"
  },
  "language_info": {
   "codemirror_mode": {
    "name": "ipython",
    "version": 3
   },
   "file_extension": ".py",
   "mimetype": "text/x-python",
   "name": "python",
   "nbconvert_exporter": "python",
   "pygments_lexer": "ipython3",
   "version": "3.9.12"
  }
 },
 "nbformat": 4,
 "nbformat_minor": 5
}
