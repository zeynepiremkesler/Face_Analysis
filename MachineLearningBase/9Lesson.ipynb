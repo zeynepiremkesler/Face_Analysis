{
 "cells": [
  {
   "cell_type": "code",
   "execution_count": 1,
   "id": "01a706c5",
   "metadata": {},
   "outputs": [
    {
     "data": {
      "text/plain": [
       "'\\nSupport vector Machines\\n'"
      ]
     },
     "execution_count": 1,
     "metadata": {},
     "output_type": "execute_result"
    }
   ],
   "source": [
    "\"\"\"\n",
    "Support vector Machines\n",
    "\"\"\""
   ]
  },
  {
   "cell_type": "code",
   "execution_count": 2,
   "id": "71ce68d4",
   "metadata": {},
   "outputs": [],
   "source": [
    "import numpy as np\n",
    "import pandas as pd\n",
    "import matplotlib.pyplot as plt\n",
    "import seaborn as sns"
   ]
  },
  {
   "cell_type": "code",
   "execution_count": 3,
   "id": "5ba01ac0",
   "metadata": {},
   "outputs": [],
   "source": [
    "dataset = pd.read_csv('Social_Network_Ads.csv')"
   ]
  },
  {
   "cell_type": "code",
   "execution_count": 4,
   "id": "83a1500d",
   "metadata": {},
   "outputs": [
    {
     "data": {
      "text/html": [
       "<div>\n",
       "<style scoped>\n",
       "    .dataframe tbody tr th:only-of-type {\n",
       "        vertical-align: middle;\n",
       "    }\n",
       "\n",
       "    .dataframe tbody tr th {\n",
       "        vertical-align: top;\n",
       "    }\n",
       "\n",
       "    .dataframe thead th {\n",
       "        text-align: right;\n",
       "    }\n",
       "</style>\n",
       "<table border=\"1\" class=\"dataframe\">\n",
       "  <thead>\n",
       "    <tr style=\"text-align: right;\">\n",
       "      <th></th>\n",
       "      <th>User ID</th>\n",
       "      <th>Gender</th>\n",
       "      <th>Age</th>\n",
       "      <th>EstimatedSalary</th>\n",
       "      <th>Purchased</th>\n",
       "    </tr>\n",
       "  </thead>\n",
       "  <tbody>\n",
       "    <tr>\n",
       "      <th>0</th>\n",
       "      <td>15624510</td>\n",
       "      <td>Male</td>\n",
       "      <td>19</td>\n",
       "      <td>19000</td>\n",
       "      <td>0</td>\n",
       "    </tr>\n",
       "    <tr>\n",
       "      <th>1</th>\n",
       "      <td>15810944</td>\n",
       "      <td>Male</td>\n",
       "      <td>35</td>\n",
       "      <td>20000</td>\n",
       "      <td>0</td>\n",
       "    </tr>\n",
       "    <tr>\n",
       "      <th>2</th>\n",
       "      <td>15668575</td>\n",
       "      <td>Female</td>\n",
       "      <td>26</td>\n",
       "      <td>43000</td>\n",
       "      <td>0</td>\n",
       "    </tr>\n",
       "    <tr>\n",
       "      <th>3</th>\n",
       "      <td>15603246</td>\n",
       "      <td>Female</td>\n",
       "      <td>27</td>\n",
       "      <td>57000</td>\n",
       "      <td>0</td>\n",
       "    </tr>\n",
       "    <tr>\n",
       "      <th>4</th>\n",
       "      <td>15804002</td>\n",
       "      <td>Male</td>\n",
       "      <td>19</td>\n",
       "      <td>76000</td>\n",
       "      <td>0</td>\n",
       "    </tr>\n",
       "  </tbody>\n",
       "</table>\n",
       "</div>"
      ],
      "text/plain": [
       "    User ID  Gender  Age  EstimatedSalary  Purchased\n",
       "0  15624510    Male   19            19000          0\n",
       "1  15810944    Male   35            20000          0\n",
       "2  15668575  Female   26            43000          0\n",
       "3  15603246  Female   27            57000          0\n",
       "4  15804002    Male   19            76000          0"
      ]
     },
     "execution_count": 4,
     "metadata": {},
     "output_type": "execute_result"
    }
   ],
   "source": [
    "dataset.head()"
   ]
  },
  {
   "cell_type": "code",
   "execution_count": 5,
   "id": "389e7197",
   "metadata": {},
   "outputs": [],
   "source": [
    "X = dataset.iloc[:, [2,3]].values\n",
    "y = dataset.iloc[:, -1].values"
   ]
  },
  {
   "cell_type": "code",
   "execution_count": 6,
   "id": "50b7d9d9",
   "metadata": {},
   "outputs": [],
   "source": [
    "from sklearn.model_selection import train_test_split\n",
    "Xtrain, Xtest, ytrain, ytest = train_test_split(X,y,test_size=0.25,random_state=42)"
   ]
  },
  {
   "cell_type": "code",
   "execution_count": 7,
   "id": "fc489b41",
   "metadata": {},
   "outputs": [],
   "source": [
    "from sklearn.preprocessing import StandardScaler\n",
    "sc = StandardScaler()\n",
    "Xtrain = sc.fit_transform(Xtrain)\n",
    "Xtest = sc.transform(Xtest)"
   ]
  },
  {
   "cell_type": "code",
   "execution_count": 8,
   "id": "8adf626b",
   "metadata": {},
   "outputs": [
    {
     "data": {
      "text/plain": [
       "array([[ 1.8925893 ,  1.52189404],\n",
       "       [ 0.1250379 ,  0.03213212],\n",
       "       [ 0.9106163 , -1.31157471],\n",
       "       [-1.34792161, -1.48684082],\n",
       "       [-0.169554  , -0.58129926],\n",
       "       [-0.56234321,  2.33980255],\n",
       "       [ 1.0088136 , -1.19473064],\n",
       "       [-0.75873781,  1.08372877],\n",
       "       [ 2.1871812 , -1.04867555],\n",
       "       [ 0.0268406 , -0.25997806],\n",
       "       [-0.46414591, -1.1363086 ],\n",
       "       [ 0.1250379 ,  0.03213212],\n",
       "       [ 1.6961947 , -0.90262046],\n",
       "       [ 1.1070109 , -0.90262046],\n",
       "       [ 0.5178271 ,  1.22978386],\n",
       "       [-1.05332971, -1.4576298 ],\n",
       "       [-1.15152701, -1.54526286],\n",
       "       [-0.0713567 ,  0.67477452],\n",
       "       [ 0.4196298 , -0.46445519],\n",
       "       [-0.2677513 , -0.25997806],\n",
       "       [-0.85693511,  0.14897619],\n",
       "       [ 0.0268406 ,  0.29503128],\n",
       "       [ 0.7142217 , -1.28236369],\n",
       "       [ 1.5979974 ,  1.11293979],\n",
       "       [ 0.812419  , -1.36999675],\n",
       "       [-1.44611891, -1.22394166],\n",
       "       [-0.0713567 ,  0.14897619],\n",
       "       [ 0.4196298 , -0.14313399],\n",
       "       [-0.2677513 ,  0.03213212],\n",
       "       [ 1.3034055 ,  2.22295848],\n",
       "       [ 0.1250379 ,  0.76240757],\n",
       "       [-1.34792161,  0.55793045],\n",
       "       [ 1.9907866 ,  0.73319655],\n",
       "       [-1.24972431, -1.39920777],\n",
       "       [ 0.3214325 , -0.3184001 ],\n",
       "       [-0.95513241,  0.55793045],\n",
       "       [ 0.4196298 ,  0.29503128],\n",
       "       [ 0.4196298 ,  1.11293979],\n",
       "       [ 0.812419  ,  0.76240757],\n",
       "       [ 0.9106163 ,  1.25899488],\n",
       "       [-0.46414591, -1.22394166],\n",
       "       [-1.83890811, -1.31157471],\n",
       "       [ 1.1070109 ,  0.55793045],\n",
       "       [-0.66054051, -1.60368489],\n",
       "       [-0.75873781,  0.26582026],\n",
       "       [ 1.0088136 ,  2.07690339],\n",
       "       [-0.56234321,  1.37583895],\n",
       "       [-0.0713567 ,  0.03213212],\n",
       "       [-1.93710541,  0.47029739],\n",
       "       [ 0.4196298 ,  0.26582026],\n",
       "       [-1.05332971,  0.41187535],\n",
       "       [ 0.2232352 , -0.14313399],\n",
       "       [ 1.8925893 ,  0.11976517],\n",
       "       [-1.15152701, -1.60368489],\n",
       "       [-1.15152701,  0.29503128],\n",
       "       [-0.85693511, -0.78577639],\n",
       "       [-0.46414591,  2.31059153],\n",
       "       [ 0.1250379 , -0.8149874 ],\n",
       "       [ 1.5979974 ,  0.99609572],\n",
       "       [-0.169554  , -1.07788657],\n",
       "       [ 0.812419  , -1.10709759],\n",
       "       [ 0.2232352 ,  2.1061144 ],\n",
       "       [-0.0713567 , -0.23076704],\n",
       "       [-0.85693511,  2.28138051],\n",
       "       [-0.0713567 , -0.37682213],\n",
       "       [-0.2677513 , -0.58129926],\n",
       "       [ 0.4196298 , -0.49366621],\n",
       "       [-0.2677513 , -0.93183148],\n",
       "       [ 0.3214325 , -1.16551962],\n",
       "       [ 0.2232352 ,  0.06134314],\n",
       "       [-1.15152701, -1.60368489],\n",
       "       [-0.66054051, -0.05550093],\n",
       "       [-0.2677513 , -0.49366621],\n",
       "       [-0.2677513 , -1.31157471],\n",
       "       [-0.75873781,  0.55793045],\n",
       "       [ 0.3214325 ,  0.06134314],\n",
       "       [-0.95513241,  1.55110506],\n",
       "       [ 0.812419  ,  0.35345332],\n",
       "       [-1.54431621, -0.20155602],\n",
       "       [ 0.7142217 , -1.39920777],\n",
       "       [-0.75873781, -0.61051028],\n",
       "       [-0.36594861, -1.31157471],\n",
       "       [ 0.2232352 ,  0.14897619],\n",
       "       [-0.56234321,  1.37583895],\n",
       "       [-1.44611891,  0.35345332],\n",
       "       [-1.15152701,  0.29503128],\n",
       "       [ 1.0088136 ,  1.7847932 ],\n",
       "       [ 2.0889839 ,  2.13532542],\n",
       "       [-0.2677513 , -0.43524417],\n",
       "       [-0.36594861, -0.78577639],\n",
       "       [ 0.1250379 , -0.25997806],\n",
       "       [-1.05332971,  0.76240757],\n",
       "       [ 2.1871812 ,  0.38266434],\n",
       "       [-1.34792161, -0.43524417],\n",
       "       [ 1.9907866 ,  2.16453644],\n",
       "       [ 1.4998001 ,  0.99609572],\n",
       "       [-0.2677513 ,  0.26582026],\n",
       "       [-0.169554  ,  0.85004063],\n",
       "       [ 1.8925893 , -0.28918908],\n",
       "       [-0.0713567 ,  1.96005931],\n",
       "       [-0.46414591, -0.78577639],\n",
       "       [ 0.3214325 ,  0.03213212],\n",
       "       [ 1.4016028 , -1.42841878],\n",
       "       [ 1.4016028 ,  2.33980255],\n",
       "       [-0.0713567 ,  0.0029211 ],\n",
       "       [-1.15152701,  0.41187535],\n",
       "       [-1.15152701,  0.06134314],\n",
       "       [-1.15152701, -0.52287722],\n",
       "       [ 0.3214325 , -0.28918908],\n",
       "       [-0.66054051, -0.11392297],\n",
       "       [-0.0713567 ,  2.16453644],\n",
       "       [ 0.0268406 , -0.25997806],\n",
       "       [-0.66054051, -1.04867555],\n",
       "       [ 0.4196298 ,  0.14897619],\n",
       "       [ 0.812419  ,  1.37583895],\n",
       "       [-0.169554  , -0.52287722],\n",
       "       [ 0.0268406 ,  0.03213212],\n",
       "       [ 1.1070109 ,  0.52871943],\n",
       "       [ 1.8925893 , -1.07788657],\n",
       "       [ 1.0088136 ,  1.98927033],\n",
       "       [ 0.9106163 , -0.58129926],\n",
       "       [-0.46414591, -0.02628992],\n",
       "       [-0.0713567 ,  2.22295848],\n",
       "       [-1.74071081,  0.35345332],\n",
       "       [ 0.2232352 , -0.66893231],\n",
       "       [-0.2677513 , -1.39920777],\n",
       "       [-1.74071081, -0.99025351],\n",
       "       [ 0.7142217 , -0.72735435],\n",
       "       [-1.15152701, -0.78577639],\n",
       "       [ 1.9907866 ,  0.90846266],\n",
       "       [ 0.2232352 , -0.37682213],\n",
       "       [ 0.0268406 ,  1.22978386],\n",
       "       [-0.0713567 ,  0.29503128],\n",
       "       [ 1.1070109 , -1.22394166],\n",
       "       [-0.169554  ,  0.14897619],\n",
       "       [ 0.3214325 ,  0.06134314],\n",
       "       [-0.2677513 , -0.28918908],\n",
       "       [ 0.5178271 ,  1.72637117],\n",
       "       [ 0.3214325 ,  0.49950841],\n",
       "       [ 0.0268406 ,  1.25899488],\n",
       "       [ 1.9907866 , -1.36999675],\n",
       "       [-1.15152701, -1.10709759],\n",
       "       [-0.56234321, -1.51605184],\n",
       "       [ 0.3214325 , -0.52287722],\n",
       "       [-0.66054051, -1.51605184],\n",
       "       [-0.2677513 ,  0.52871943],\n",
       "       [ 1.0088136 , -1.01946453],\n",
       "       [-1.05332971,  0.55793045],\n",
       "       [-0.2677513 ,  0.79161859],\n",
       "       [ 0.4196298 ,  0.09055416],\n",
       "       [-1.64251351, -0.05550093],\n",
       "       [ 0.3214325 ,  0.06134314],\n",
       "       [-0.46414591, -0.28918908],\n",
       "       [ 0.1250379 ,  1.87242626],\n",
       "       [-0.95513241,  0.41187535],\n",
       "       [ 0.812419  ,  0.52871943],\n",
       "       [-1.34792161, -0.34761112],\n",
       "       [-0.66054051,  1.40504997],\n",
       "       [ 1.2052082 ,  0.52871943],\n",
       "       [-1.74071081,  0.35345332],\n",
       "       [-0.56234321,  1.90163728],\n",
       "       [-1.74071081,  0.47029739],\n",
       "       [-0.2677513 , -1.25315268],\n",
       "       [-0.85693511, -0.78577639],\n",
       "       [-1.64251351,  0.52871943],\n",
       "       [-0.2677513 , -0.3184001 ],\n",
       "       [ 0.7142217 , -1.10709759],\n",
       "       [ 2.1871812 , -0.8149874 ],\n",
       "       [-0.2677513 ,  0.61635248],\n",
       "       [-0.2677513 , -0.75656537],\n",
       "       [-1.93710541, -0.75656537],\n",
       "       [ 0.4196298 ,  2.31059153],\n",
       "       [ 0.7142217 ,  0.26582026],\n",
       "       [ 0.2232352 , -0.28918908],\n",
       "       [-1.34792161, -1.36999675],\n",
       "       [-0.46414591, -0.55208824],\n",
       "       [ 0.4196298 ,  0.0029211 ],\n",
       "       [ 1.6961947 ,  1.75558219],\n",
       "       [ 1.2052082 , -0.75656537],\n",
       "       [ 1.0088136 ,  1.43426099],\n",
       "       [-1.83890811,  0.17818721],\n",
       "       [ 0.3214325 ,  0.06134314],\n",
       "       [ 0.2232352 ,  0.03213212],\n",
       "       [-1.05332971,  0.52871943],\n",
       "       [-0.169554  ,  1.63873811],\n",
       "       [-0.2677513 ,  0.14897619],\n",
       "       [-0.2677513 , -0.34761112],\n",
       "       [-0.36594861,  1.31741692],\n",
       "       [-0.2677513 ,  0.09055416],\n",
       "       [ 2.1871812 ,  1.11293979],\n",
       "       [-1.24972431,  0.49950841],\n",
       "       [-1.05332971, -0.46445519],\n",
       "       [-1.64251351, -1.57447387],\n",
       "       [-0.0713567 ,  0.11976517],\n",
       "       [-0.2677513 , -0.90262046],\n",
       "       [ 1.5979974 ,  0.0029211 ],\n",
       "       [ 0.9106163 , -1.16551962],\n",
       "       [ 0.0268406 , -0.58129926],\n",
       "       [-0.2677513 ,  2.25216949],\n",
       "       [-0.2677513 ,  0.20739823],\n",
       "       [ 0.3214325 ,  0.26582026],\n",
       "       [-0.0713567 , -1.07788657],\n",
       "       [ 2.1871812 , -0.69814333],\n",
       "       [-0.95513241, -0.3184001 ],\n",
       "       [-1.44611891, -0.11392297],\n",
       "       [-1.44611891, -0.20155602],\n",
       "       [-0.75873781, -1.54526286],\n",
       "       [-1.24972431, -1.07788657],\n",
       "       [ 2.0889839 ,  0.38266434],\n",
       "       [ 1.9907866 , -0.93183148],\n",
       "       [-1.93710541,  0.35345332],\n",
       "       [ 0.812419  , -0.3184001 ],\n",
       "       [-1.05332971, -1.54526286],\n",
       "       [ 1.9907866 , -0.66893231],\n",
       "       [ 1.0088136 , -1.16551962],\n",
       "       [ 1.1070109 , -0.14313399],\n",
       "       [ 1.2052082 , -0.99025351],\n",
       "       [ 1.4998001 ,  0.06134314],\n",
       "       [ 0.2232352 , -0.37682213],\n",
       "       [ 1.4016028 ,  1.2882059 ],\n",
       "       [ 2.0889839 , -0.8149874 ],\n",
       "       [-0.169554  , -0.20155602],\n",
       "       [ 0.4196298 ,  0.99609572],\n",
       "       [-0.0713567 , -0.52287722],\n",
       "       [ 1.0088136 , -1.07788657],\n",
       "       [ 2.0889839 , -1.19473064],\n",
       "       [-0.0713567 ,  0.26582026],\n",
       "       [ 0.2232352 , -0.25997806],\n",
       "       [ 1.1070109 ,  0.11976517],\n",
       "       [-1.24972431,  0.58714146],\n",
       "       [-0.75873781, -1.60368489],\n",
       "       [ 0.2232352 ,  0.23660925],\n",
       "       [-1.34792161,  0.41187535],\n",
       "       [ 0.0268406 , -0.58129926],\n",
       "       [ 0.7142217 ,  1.7847932 ],\n",
       "       [-1.64251351,  0.06134314],\n",
       "       [-0.2677513 , -1.36999675],\n",
       "       [-0.2677513 , -1.4576298 ],\n",
       "       [-0.66054051,  0.55793045],\n",
       "       [-0.75873781,  0.29503128],\n",
       "       [ 0.9106163 , -0.66893231],\n",
       "       [-1.05332971,  0.58714146],\n",
       "       [-0.2677513 ,  0.06134314],\n",
       "       [-0.75873781,  1.34662793],\n",
       "       [ 0.1250379 ,  1.52189404],\n",
       "       [-0.85693511,  0.38266434],\n",
       "       [ 0.3214325 , -0.20155602],\n",
       "       [ 1.0088136 ,  0.58714146],\n",
       "       [ 0.0268406 , -0.3184001 ],\n",
       "       [-0.56234321, -1.51605184],\n",
       "       [ 0.1250379 ,  0.14897619],\n",
       "       [-1.15152701,  0.3242423 ],\n",
       "       [ 0.1250379 ,  1.05451775],\n",
       "       [-1.54431621, -0.43524417],\n",
       "       [-0.169554  ,  1.40504997],\n",
       "       [ 2.1871812 , -0.8149874 ],\n",
       "       [-0.95513241, -0.43524417],\n",
       "       [ 1.3034055 ,  1.87242626],\n",
       "       [ 1.1070109 , -1.22394166],\n",
       "       [-0.169554  , -0.28918908],\n",
       "       [ 1.794392  ,  0.99609572],\n",
       "       [-1.05332971, -0.34761112],\n",
       "       [-1.34792161, -1.10709759],\n",
       "       [-0.36594861,  0.06134314],\n",
       "       [-0.95513241, -1.10709759],\n",
       "       [ 1.2052082 , -1.4576298 ],\n",
       "       [-0.46414591, -0.84419842],\n",
       "       [-0.85693511, -0.66893231],\n",
       "       [-1.54431621, -1.51605184],\n",
       "       [-0.75873781,  1.90163728],\n",
       "       [ 0.9106163 ,  1.02530673],\n",
       "       [ 0.812419  ,  0.26582026],\n",
       "       [ 1.0088136 ,  1.87242626],\n",
       "       [ 0.9106163 , -0.61051028],\n",
       "       [ 1.1070109 ,  2.07690339],\n",
       "       [-0.56234321,  0.87925164],\n",
       "       [ 0.0268406 ,  0.03213212],\n",
       "       [-1.83890811, -1.28236369],\n",
       "       [-0.0713567 ,  0.20739823],\n",
       "       [ 0.9106163 , -0.55208824],\n",
       "       [ 0.2232352 , -0.37682213],\n",
       "       [-0.169554  ,  1.6095271 ],\n",
       "       [-1.74071081,  0.11976517],\n",
       "       [-0.66054051, -0.34761112],\n",
       "       [ 0.3214325 , -0.72735435],\n",
       "       [ 0.4196298 , -0.46445519],\n",
       "       [-0.95513241, -0.96104249],\n",
       "       [ 0.1250379 ,  0.09055416],\n",
       "       [-0.95513241,  0.44108637],\n",
       "       [ 0.0268406 , -0.55208824],\n",
       "       [ 0.9106163 , -0.78577639],\n",
       "       [-0.0713567 ,  0.06134314],\n",
       "       [ 1.1070109 , -0.99025351],\n",
       "       [ 0.7142217 , -1.39920777],\n",
       "       [-0.2677513 ,  0.06134314],\n",
       "       [-1.34792161, -1.25315268],\n",
       "       [-1.15152701, -1.01946453],\n",
       "       [ 0.5178271 ,  1.84321524],\n",
       "       [ 0.1250379 ,  0.20739823],\n",
       "       [-0.56234321,  0.47029739]])"
      ]
     },
     "execution_count": 8,
     "metadata": {},
     "output_type": "execute_result"
    }
   ],
   "source": [
    "Xtrain"
   ]
  },
  {
   "cell_type": "code",
   "execution_count": 9,
   "id": "10be0865",
   "metadata": {},
   "outputs": [
    {
     "data": {
      "text/plain": [
       "SVC(kernel='linear', random_state=0)"
      ]
     },
     "execution_count": 9,
     "metadata": {},
     "output_type": "execute_result"
    }
   ],
   "source": [
    "from sklearn.svm import SVC\n",
    "classifier = SVC(kernel = 'linear', random_state = 0)\n",
    "classifier.fit(Xtrain,ytrain)"
   ]
  },
  {
   "cell_type": "code",
   "execution_count": 10,
   "id": "1cfbf31e",
   "metadata": {},
   "outputs": [],
   "source": [
    "ypred = classifier.predict(Xtest)"
   ]
  },
  {
   "cell_type": "code",
   "execution_count": 11,
   "id": "fd5f8bf8",
   "metadata": {},
   "outputs": [
    {
     "name": "stdout",
     "output_type": "stream",
     "text": [
      "[[61  2]\n",
      " [12 25]]\n"
     ]
    }
   ],
   "source": [
    "from sklearn.metrics import confusion_matrix\n",
    "cm = confusion_matrix(ytest,ypred)\n",
    "print(cm)"
   ]
  },
  {
   "cell_type": "code",
   "execution_count": 12,
   "id": "18cf9092",
   "metadata": {},
   "outputs": [
    {
     "name": "stderr",
     "output_type": "stream",
     "text": [
      "*c* argument looks like a single numeric RGB or RGBA sequence, which should be avoided as value-mapping will have precedence in case its length matches with *x* & *y*.  Please use the *color* keyword-argument or provide a 2D array with a single row if you intend to specify the same RGB or RGBA value for all points.\n",
      "*c* argument looks like a single numeric RGB or RGBA sequence, which should be avoided as value-mapping will have precedence in case its length matches with *x* & *y*.  Please use the *color* keyword-argument or provide a 2D array with a single row if you intend to specify the same RGB or RGBA value for all points.\n"
     ]
    },
    {
     "data": {
      "image/png": "[encoded data removed]",
      "text/plain": [
       "<Figure size 432x288 with 1 Axes>"
      ]
     },
     "metadata": {
      "needs_background": "light"
     },
     "output_type": "display_data"
    }
   ],
   "source": [
    "from matplotlib.colors import ListedColormap# Çizim için kullandığımız hazır fonksiyon\n",
    "X_set, y_set = Xtrain, ytrain\n",
    "X1, X2 = np.meshgrid(np.arange(start=X_set[:,0].min() - 1, stop=X_set[:,0].max() + 1, step = 0.01), \n",
    "                     np.arange(start=X_set[:,0].min() - 1, stop=X_set[:,0].max() + 1, step = 0.01))\n",
    "plt.contourf(X1, X2, classifier.predict(np.array([X1.ravel(), X2.ravel()]).T).reshape(X1.shape), alpha = 0.75, cmap = ListedColormap(('red','green')))\n",
    "plt.xlim(X1.min(), X1.max())\n",
    "plt.ylim(X2.min(), X2.max())\n",
    "for i, j in enumerate(np.unique(y_set)):\n",
    "             plt.scatter(X_set[y_set == j, 0], X_set[y_set == j, 1], c = ListedColormap(('red','green'))(i), label = j)\n",
    "plt.title('SVM (training set)')\n",
    "plt.xlabel('Age')\n",
    "plt.ylabel('Estimated Salary')\n",
    "plt.legend()\n",
    "plt.show()"
   ]
  },
  {
   "cell_type": "code",
   "execution_count": 13,
   "id": "d57353d4",
   "metadata": {},
   "outputs": [
    {
     "name": "stderr",
     "output_type": "stream",
     "text": [
      "*c* argument looks like a single numeric RGB or RGBA sequence, which should be avoided as value-mapping will have precedence in case its length matches with *x* & *y*.  Please use the *color* keyword-argument or provide a 2D array with a single row if you intend to specify the same RGB or RGBA value for all points.\n",
      "*c* argument looks like a single numeric RGB or RGBA sequence, which should be avoided as value-mapping will have precedence in case its length matches with *x* & *y*.  Please use the *color* keyword-argument or provide a 2D array with a single row if you intend to specify the same RGB or RGBA value for all points.\n"
     ]
    },
    {
     "data": {
      "image/png": "[encoded data removed]",
      "text/plain": [
       "<Figure size 432x288 with 1 Axes>"
      ]
     },
     "metadata": {
      "needs_background": "light"
     },
     "output_type": "display_data"
    }
   ],
   "source": [
    "from matplotlib.colors import ListedColormap# Çizim için kullandığımız hazır fonksiyon\n",
    "X_set, y_set = Xtest, ytest\n",
    "X1, X2 = np.meshgrid(np.arange(start=X_set[:,0].min() - 1, stop=X_set[:,0].max() + 1, step = 0.01), \n",
    "                     np.arange(start=X_set[:,0].min() - 1, stop=X_set[:,0].max() + 1, step = 0.01))\n",
    "plt.contourf(X1, X2, classifier.predict(np.array([X1.ravel(), X2.ravel()]).T).reshape(X1.shape), alpha = 0.75, cmap = ListedColormap(('red','green')))\n",
    "plt.xlim(X1.min(), X1.max())\n",
    "plt.ylim(X2.min(), X2.max())\n",
    "for i, j in enumerate(np.unique(y_set)):\n",
    "             plt.scatter(X_set[y_set == j, 0], X_set[y_set == j, 1], c = ListedColormap(('red','green'))(i), label = j)\n",
    "plt.title('SVM (training set)')\n",
    "plt.xlabel('Age')\n",
    "plt.ylabel('Estimated Salary')\n",
    "plt.legend()\n",
    "plt.show()"
   ]
  },
  {
   "cell_type": "code",
   "execution_count": 14,
   "id": "ba4f77b8",
   "metadata": {},
   "outputs": [
    {
     "data": {
      "text/plain": [
       "'\\nKNN (K nearest)\\n'"
      ]
     },
     "execution_count": 14,
     "metadata": {},
     "output_type": "execute_result"
    }
   ],
   "source": [
    "\"\"\"\n",
    "KNN (K nearest)\n",
    "\"\"\""
   ]
  },
  {
   "cell_type": "code",
   "execution_count": 15,
   "id": "2006cfe7",
   "metadata": {},
   "outputs": [],
   "source": [
    "import warnings\n",
    "warnings.filterwarnings('ignore')"
   ]
  },
  {
   "cell_type": "code",
   "execution_count": 16,
   "id": "10f66d62",
   "metadata": {},
   "outputs": [
    {
     "data": {
      "text/plain": [
       "(891, 25)"
      ]
     },
     "execution_count": 16,
     "metadata": {},
     "output_type": "execute_result"
    }
   ],
   "source": [
    "data = pd.read_csv('data_cleaned.csv')\n",
    "data.shape"
   ]
  },
  {
   "cell_type": "code",
   "execution_count": 17,
   "id": "ea10651f",
   "metadata": {},
   "outputs": [
    {
     "data": {
      "text/html": [
       "<div>\n",
       "<style scoped>\n",
       "    .dataframe tbody tr th:only-of-type {\n",
       "        vertical-align: middle;\n",
       "    }\n",
       "\n",
       "    .dataframe tbody tr th {\n",
       "        vertical-align: top;\n",
       "    }\n",
       "\n",
       "    .dataframe thead th {\n",
       "        text-align: right;\n",
       "    }\n",
       "</style>\n",
       "<table border=\"1\" class=\"dataframe\">\n",
       "  <thead>\n",
       "    <tr style=\"text-align: right;\">\n",
       "      <th></th>\n",
       "      <th>Survived</th>\n",
       "      <th>Age</th>\n",
       "      <th>Fare</th>\n",
       "      <th>Pclass_1</th>\n",
       "      <th>Pclass_2</th>\n",
       "      <th>Pclass_3</th>\n",
       "      <th>Sex_female</th>\n",
       "      <th>Sex_male</th>\n",
       "      <th>SibSp_0</th>\n",
       "      <th>SibSp_1</th>\n",
       "      <th>...</th>\n",
       "      <th>Parch_0</th>\n",
       "      <th>Parch_1</th>\n",
       "      <th>Parch_2</th>\n",
       "      <th>Parch_3</th>\n",
       "      <th>Parch_4</th>\n",
       "      <th>Parch_5</th>\n",
       "      <th>Parch_6</th>\n",
       "      <th>Embarked_C</th>\n",
       "      <th>Embarked_Q</th>\n",
       "      <th>Embarked_S</th>\n",
       "    </tr>\n",
       "  </thead>\n",
       "  <tbody>\n",
       "    <tr>\n",
       "      <th>0</th>\n",
       "      <td>0</td>\n",
       "      <td>22.0</td>\n",
       "      <td>7.2500</td>\n",
       "      <td>0</td>\n",
       "      <td>0</td>\n",
       "      <td>1</td>\n",
       "      <td>0</td>\n",
       "      <td>1</td>\n",
       "      <td>0</td>\n",
       "      <td>1</td>\n",
       "      <td>...</td>\n",
       "      <td>1</td>\n",
       "      <td>0</td>\n",
       "      <td>0</td>\n",
       "      <td>0</td>\n",
       "      <td>0</td>\n",
       "      <td>0</td>\n",
       "      <td>0</td>\n",
       "      <td>0</td>\n",
       "      <td>0</td>\n",
       "      <td>1</td>\n",
       "    </tr>\n",
       "    <tr>\n",
       "      <th>1</th>\n",
       "      <td>1</td>\n",
       "      <td>38.0</td>\n",
       "      <td>71.2833</td>\n",
       "      <td>1</td>\n",
       "      <td>0</td>\n",
       "      <td>0</td>\n",
       "      <td>1</td>\n",
       "      <td>0</td>\n",
       "      <td>0</td>\n",
       "      <td>1</td>\n",
       "      <td>...</td>\n",
       "      <td>1</td>\n",
       "      <td>0</td>\n",
       "      <td>0</td>\n",
       "      <td>0</td>\n",
       "      <td>0</td>\n",
       "      <td>0</td>\n",
       "      <td>0</td>\n",
       "      <td>1</td>\n",
       "      <td>0</td>\n",
       "      <td>0</td>\n",
       "    </tr>\n",
       "    <tr>\n",
       "      <th>2</th>\n",
       "      <td>1</td>\n",
       "      <td>26.0</td>\n",
       "      <td>7.9250</td>\n",
       "      <td>0</td>\n",
       "      <td>0</td>\n",
       "      <td>1</td>\n",
       "      <td>1</td>\n",
       "      <td>0</td>\n",
       "      <td>1</td>\n",
       "      <td>0</td>\n",
       "      <td>...</td>\n",
       "      <td>1</td>\n",
       "      <td>0</td>\n",
       "      <td>0</td>\n",
       "      <td>0</td>\n",
       "      <td>0</td>\n",
       "      <td>0</td>\n",
       "      <td>0</td>\n",
       "      <td>0</td>\n",
       "      <td>0</td>\n",
       "      <td>1</td>\n",
       "    </tr>\n",
       "    <tr>\n",
       "      <th>3</th>\n",
       "      <td>1</td>\n",
       "      <td>35.0</td>\n",
       "      <td>53.1000</td>\n",
       "      <td>1</td>\n",
       "      <td>0</td>\n",
       "      <td>0</td>\n",
       "      <td>1</td>\n",
       "      <td>0</td>\n",
       "      <td>0</td>\n",
       "      <td>1</td>\n",
       "      <td>...</td>\n",
       "      <td>1</td>\n",
       "      <td>0</td>\n",
       "      <td>0</td>\n",
       "      <td>0</td>\n",
       "      <td>0</td>\n",
       "      <td>0</td>\n",
       "      <td>0</td>\n",
       "      <td>0</td>\n",
       "      <td>0</td>\n",
       "      <td>1</td>\n",
       "    </tr>\n",
       "    <tr>\n",
       "      <th>4</th>\n",
       "      <td>0</td>\n",
       "      <td>35.0</td>\n",
       "      <td>8.0500</td>\n",
       "      <td>0</td>\n",
       "      <td>0</td>\n",
       "      <td>1</td>\n",
       "      <td>0</td>\n",
       "      <td>1</td>\n",
       "      <td>1</td>\n",
       "      <td>0</td>\n",
       "      <td>...</td>\n",
       "      <td>1</td>\n",
       "      <td>0</td>\n",
       "      <td>0</td>\n",
       "      <td>0</td>\n",
       "      <td>0</td>\n",
       "      <td>0</td>\n",
       "      <td>0</td>\n",
       "      <td>0</td>\n",
       "      <td>0</td>\n",
       "      <td>1</td>\n",
       "    </tr>\n",
       "  </tbody>\n",
       "</table>\n",
       "<p>5 rows × 25 columns</p>\n",
       "</div>"
      ],
      "text/plain": [
       "   Survived   Age     Fare  Pclass_1  Pclass_2  Pclass_3  Sex_female  \\\n",
       "0         0  22.0   7.2500         0         0         1           0   \n",
       "1         1  38.0  71.2833         1         0         0           1   \n",
       "2         1  26.0   7.9250         0         0         1           1   \n",
       "3         1  35.0  53.1000         1         0         0           1   \n",
       "4         0  35.0   8.0500         0         0         1           0   \n",
       "\n",
       "   Sex_male  SibSp_0  SibSp_1  ...  Parch_0  Parch_1  Parch_2  Parch_3  \\\n",
       "0         1        0        1  ...        1        0        0        0   \n",
       "1         0        0        1  ...        1        0        0        0   \n",
       "2         0        1        0  ...        1        0        0        0   \n",
       "3         0        0        1  ...        1        0        0        0   \n",
       "4         1        1        0  ...        1        0        0        0   \n",
       "\n",
       "   Parch_4  Parch_5  Parch_6  Embarked_C  Embarked_Q  Embarked_S  \n",
       "0        0        0        0           0           0           1  \n",
       "1        0        0        0           1           0           0  \n",
       "2        0        0        0           0           0           1  \n",
       "3        0        0        0           0           0           1  \n",
       "4        0        0        0           0           0           1  \n",
       "\n",
       "[5 rows x 25 columns]"
      ]
     },
     "execution_count": 17,
     "metadata": {},
     "output_type": "execute_result"
    }
   ],
   "source": [
    "data.head()"
   ]
  },
  {
   "cell_type": "code",
   "execution_count": 18,
   "id": "91f5d2bf",
   "metadata": {},
   "outputs": [
    {
     "data": {
      "text/plain": [
       "((891, 24), (891,))"
      ]
     },
     "execution_count": 18,
     "metadata": {},
     "output_type": "execute_result"
    }
   ],
   "source": [
    "x = data.drop(['Survived'], axis = 1)\n",
    "y = data['Survived']\n",
    "x.shape, y.shape"
   ]
  },
  {
   "cell_type": "code",
   "execution_count": 19,
   "id": "94b0c555",
   "metadata": {},
   "outputs": [],
   "source": [
    "from sklearn.preprocessing import MinMaxScaler\n",
    "scler = MinMaxScaler()\n",
    "xscaled = scler.fit_transform(x)"
   ]
  },
  {
   "cell_type": "code",
   "execution_count": 20,
   "id": "9de8b2b5",
   "metadata": {},
   "outputs": [
    {
     "data": {
      "text/html": [
       "<div>\n",
       "<style scoped>\n",
       "    .dataframe tbody tr th:only-of-type {\n",
       "        vertical-align: middle;\n",
       "    }\n",
       "\n",
       "    .dataframe tbody tr th {\n",
       "        vertical-align: top;\n",
       "    }\n",
       "\n",
       "    .dataframe thead th {\n",
       "        text-align: right;\n",
       "    }\n",
       "</style>\n",
       "<table border=\"1\" class=\"dataframe\">\n",
       "  <thead>\n",
       "    <tr style=\"text-align: right;\">\n",
       "      <th></th>\n",
       "      <th>Age</th>\n",
       "      <th>Fare</th>\n",
       "      <th>Pclass_1</th>\n",
       "      <th>Pclass_2</th>\n",
       "      <th>Pclass_3</th>\n",
       "      <th>Sex_female</th>\n",
       "      <th>Sex_male</th>\n",
       "      <th>SibSp_0</th>\n",
       "      <th>SibSp_1</th>\n",
       "      <th>SibSp_2</th>\n",
       "      <th>...</th>\n",
       "      <th>Parch_0</th>\n",
       "      <th>Parch_1</th>\n",
       "      <th>Parch_2</th>\n",
       "      <th>Parch_3</th>\n",
       "      <th>Parch_4</th>\n",
       "      <th>Parch_5</th>\n",
       "      <th>Parch_6</th>\n",
       "      <th>Embarked_C</th>\n",
       "      <th>Embarked_Q</th>\n",
       "      <th>Embarked_S</th>\n",
       "    </tr>\n",
       "  </thead>\n",
       "  <tbody>\n",
       "    <tr>\n",
       "      <th>0</th>\n",
       "      <td>0.271174</td>\n",
       "      <td>0.014151</td>\n",
       "      <td>0.0</td>\n",
       "      <td>0.0</td>\n",
       "      <td>1.0</td>\n",
       "      <td>0.0</td>\n",
       "      <td>1.0</td>\n",
       "      <td>0.0</td>\n",
       "      <td>1.0</td>\n",
       "      <td>0.0</td>\n",
       "      <td>...</td>\n",
       "      <td>1.0</td>\n",
       "      <td>0.0</td>\n",
       "      <td>0.0</td>\n",
       "      <td>0.0</td>\n",
       "      <td>0.0</td>\n",
       "      <td>0.0</td>\n",
       "      <td>0.0</td>\n",
       "      <td>0.0</td>\n",
       "      <td>0.0</td>\n",
       "      <td>1.0</td>\n",
       "    </tr>\n",
       "    <tr>\n",
       "      <th>1</th>\n",
       "      <td>0.472229</td>\n",
       "      <td>0.139136</td>\n",
       "      <td>1.0</td>\n",
       "      <td>0.0</td>\n",
       "      <td>0.0</td>\n",
       "      <td>1.0</td>\n",
       "      <td>0.0</td>\n",
       "      <td>0.0</td>\n",
       "      <td>1.0</td>\n",
       "      <td>0.0</td>\n",
       "      <td>...</td>\n",
       "      <td>1.0</td>\n",
       "      <td>0.0</td>\n",
       "      <td>0.0</td>\n",
       "      <td>0.0</td>\n",
       "      <td>0.0</td>\n",
       "      <td>0.0</td>\n",
       "      <td>0.0</td>\n",
       "      <td>1.0</td>\n",
       "      <td>0.0</td>\n",
       "      <td>0.0</td>\n",
       "    </tr>\n",
       "    <tr>\n",
       "      <th>2</th>\n",
       "      <td>0.321438</td>\n",
       "      <td>0.015469</td>\n",
       "      <td>0.0</td>\n",
       "      <td>0.0</td>\n",
       "      <td>1.0</td>\n",
       "      <td>1.0</td>\n",
       "      <td>0.0</td>\n",
       "      <td>1.0</td>\n",
       "      <td>0.0</td>\n",
       "      <td>0.0</td>\n",
       "      <td>...</td>\n",
       "      <td>1.0</td>\n",
       "      <td>0.0</td>\n",
       "      <td>0.0</td>\n",
       "      <td>0.0</td>\n",
       "      <td>0.0</td>\n",
       "      <td>0.0</td>\n",
       "      <td>0.0</td>\n",
       "      <td>0.0</td>\n",
       "      <td>0.0</td>\n",
       "      <td>1.0</td>\n",
       "    </tr>\n",
       "    <tr>\n",
       "      <th>3</th>\n",
       "      <td>0.434531</td>\n",
       "      <td>0.103644</td>\n",
       "      <td>1.0</td>\n",
       "      <td>0.0</td>\n",
       "      <td>0.0</td>\n",
       "      <td>1.0</td>\n",
       "      <td>0.0</td>\n",
       "      <td>0.0</td>\n",
       "      <td>1.0</td>\n",
       "      <td>0.0</td>\n",
       "      <td>...</td>\n",
       "      <td>1.0</td>\n",
       "      <td>0.0</td>\n",
       "      <td>0.0</td>\n",
       "      <td>0.0</td>\n",
       "      <td>0.0</td>\n",
       "      <td>0.0</td>\n",
       "      <td>0.0</td>\n",
       "      <td>0.0</td>\n",
       "      <td>0.0</td>\n",
       "      <td>1.0</td>\n",
       "    </tr>\n",
       "    <tr>\n",
       "      <th>4</th>\n",
       "      <td>0.434531</td>\n",
       "      <td>0.015713</td>\n",
       "      <td>0.0</td>\n",
       "      <td>0.0</td>\n",
       "      <td>1.0</td>\n",
       "      <td>0.0</td>\n",
       "      <td>1.0</td>\n",
       "      <td>1.0</td>\n",
       "      <td>0.0</td>\n",
       "      <td>0.0</td>\n",
       "      <td>...</td>\n",
       "      <td>1.0</td>\n",
       "      <td>0.0</td>\n",
       "      <td>0.0</td>\n",
       "      <td>0.0</td>\n",
       "      <td>0.0</td>\n",
       "      <td>0.0</td>\n",
       "      <td>0.0</td>\n",
       "      <td>0.0</td>\n",
       "      <td>0.0</td>\n",
       "      <td>1.0</td>\n",
       "    </tr>\n",
       "  </tbody>\n",
       "</table>\n",
       "<p>5 rows × 24 columns</p>\n",
       "</div>"
      ],
      "text/plain": [
       "        Age      Fare  Pclass_1  Pclass_2  Pclass_3  Sex_female  Sex_male  \\\n",
       "0  0.271174  0.014151       0.0       0.0       1.0         0.0       1.0   \n",
       "1  0.472229  0.139136       1.0       0.0       0.0         1.0       0.0   \n",
       "2  0.321438  0.015469       0.0       0.0       1.0         1.0       0.0   \n",
       "3  0.434531  0.103644       1.0       0.0       0.0         1.0       0.0   \n",
       "4  0.434531  0.015713       0.0       0.0       1.0         0.0       1.0   \n",
       "\n",
       "   SibSp_0  SibSp_1  SibSp_2  ...  Parch_0  Parch_1  Parch_2  Parch_3  \\\n",
       "0      0.0      1.0      0.0  ...      1.0      0.0      0.0      0.0   \n",
       "1      0.0      1.0      0.0  ...      1.0      0.0      0.0      0.0   \n",
       "2      1.0      0.0      0.0  ...      1.0      0.0      0.0      0.0   \n",
       "3      0.0      1.0      0.0  ...      1.0      0.0      0.0      0.0   \n",
       "4      1.0      0.0      0.0  ...      1.0      0.0      0.0      0.0   \n",
       "\n",
       "   Parch_4  Parch_5  Parch_6  Embarked_C  Embarked_Q  Embarked_S  \n",
       "0      0.0      0.0      0.0         0.0         0.0         1.0  \n",
       "1      0.0      0.0      0.0         1.0         0.0         0.0  \n",
       "2      0.0      0.0      0.0         0.0         0.0         1.0  \n",
       "3      0.0      0.0      0.0         0.0         0.0         1.0  \n",
       "4      0.0      0.0      0.0         0.0         0.0         1.0  \n",
       "\n",
       "[5 rows x 24 columns]"
      ]
     },
     "execution_count": 20,
     "metadata": {},
     "output_type": "execute_result"
    }
   ],
   "source": [
    "x = pd.DataFrame(xscaled, columns=x.columns)\n",
    "x.head()"
   ]
  },
  {
   "cell_type": "code",
   "execution_count": 21,
   "id": "ac9d7704",
   "metadata": {},
   "outputs": [],
   "source": [
    "from sklearn.model_selection import train_test_split\n",
    "trainx ,testx ,trainy ,testy = train_test_split(x, y, random_state=42, stratify = y)"
   ]
  },
  {
   "cell_type": "code",
   "execution_count": 22,
   "id": "1f15cf67",
   "metadata": {},
   "outputs": [],
   "source": [
    "from sklearn.neighbors import KNeighborsClassifier as KNN\n",
    "from sklearn.metrics import f1_score"
   ]
  },
  {
   "cell_type": "code",
   "execution_count": 23,
   "id": "4d415040",
   "metadata": {},
   "outputs": [],
   "source": [
    "clf = KNN(n_neighbors = 10, metric = 'euclidean')\n",
    "clf.fit(trainx,trainy)\n",
    "\n",
    "testpred = clf.predict(testx)\n",
    "k_1 = f1_score(testpred, testy)"
   ]
  },
  {
   "cell_type": "code",
   "execution_count": 24,
   "id": "2cbe0099",
   "metadata": {},
   "outputs": [],
   "source": [
    "def Elbow(K):\n",
    "    test_error = []\n",
    "    \n",
    "    for i in K:\n",
    "        clf = KNN(n_neighbors = i)\n",
    "        clf.fit(trainx,trainy)\n",
    "        \n",
    "        tmp = clf.predict(testx)\n",
    "        tmp = f1_score(tmp, testy)\n",
    "        error = 1 - tmp\n",
    "        test_error.append(error)\n",
    "    \n",
    "    return test_error\n"
   ]
  },
  {
   "cell_type": "code",
   "execution_count": 25,
   "id": "194794d6",
   "metadata": {},
   "outputs": [],
   "source": [
    "k = range(6, 30, 2)"
   ]
  },
  {
   "cell_type": "code",
   "execution_count": 26,
   "id": "80933ee0",
   "metadata": {},
   "outputs": [],
   "source": [
    "test = Elbow(k)"
   ]
  },
  {
   "cell_type": "code",
   "execution_count": 27,
   "id": "a4c90d3d",
   "metadata": {},
   "outputs": [
    {
     "data": {
      "image/png": "[encoded data removed]",
      "text/plain": [
       "<Figure size 432x288 with 1 Axes>"
      ]
     },
     "metadata": {
      "needs_background": "light"
     },
     "output_type": "display_data"
    }
   ],
   "source": [
    "plt.plot(k, test)\n",
    "plt.xlabel('K neigbors')\n",
    "plt.ylabel('Test error')\n",
    "plt.title('Elbow Eğrisi')\n",
    "plt.show()"
   ]
  },
  {
   "cell_type": "code",
   "execution_count": 28,
   "id": "9ca424dc",
   "metadata": {},
   "outputs": [],
   "source": [
    "clf = KNN(n_neighbors = 27)\n",
    "\n",
    "clf.fit(trainx, trainy)\n",
    "\n",
    "test_predict = clf.predict(testx)\n",
    "k_2 = f1_score(test_predict, testy)"
   ]
  },
  {
   "cell_type": "code",
   "execution_count": 29,
   "id": "0cecf552",
   "metadata": {},
   "outputs": [
    {
     "name": "stdout",
     "output_type": "stream",
     "text": [
      "Elbow öncesi 0.6887417218543046\n",
      "Elbow sonrası 0.6887417218543046\n"
     ]
    }
   ],
   "source": [
    "print('Elbow öncesi', k_1)\n",
    "print('Elbow sonrası', k_2)"
   ]
  },
  {
   "cell_type": "code",
   "execution_count": 30,
   "id": "9eabfad0",
   "metadata": {},
   "outputs": [
    {
     "data": {
      "text/plain": [
       "'\\nNaive Bayes: P(A|B) = P(B|A) * P(A) / P(B)\\n'"
      ]
     },
     "execution_count": 30,
     "metadata": {},
     "output_type": "execute_result"
    }
   ],
   "source": [
    "\"\"\"\n",
    "Naive Bayes: P(A|B) = P(B|A) * P(A) / P(B)\n",
    "\"\"\""
   ]
  },
  {
   "cell_type": "code",
   "execution_count": null,
   "id": "b446b206",
   "metadata": {},
   "outputs": [],
   "source": []
  }
 ],
 "metadata": {
  "kernelspec": {
   "display_name": "Python 3 (ipykernel)",
   "language": "python",
   "name": "python3"
  },
  "language_info": {
   "codemirror_mode": {
    "name": "ipython",
    "version": 3
   },
   "file_extension": ".py",
   "mimetype": "text/x-python",
   "name": "python",
   "nbconvert_exporter": "python",
   "pygments_lexer": "ipython3",
   "version": "3.9.12"
  }
 },
 "nbformat": 4,
 "nbformat_minor": 5
}
