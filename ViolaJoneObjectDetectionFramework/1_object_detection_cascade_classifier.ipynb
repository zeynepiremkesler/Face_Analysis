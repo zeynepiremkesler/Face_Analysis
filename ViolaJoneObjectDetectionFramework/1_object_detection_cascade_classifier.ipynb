{
 "cells": [
  {
   "cell_type": "code",
   "execution_count": 1,
   "metadata": {},
   "outputs": [],
   "source": [
    "import numpy as np\n",
    "import cv2"
   ]
  },
  {
   "cell_type": "markdown",
   "metadata": {},
   "source": [
    "# Face Detection"
   ]
  },
  {
   "cell_type": "code",
   "execution_count": 2,
   "metadata": {},
   "outputs": [],
   "source": [
    "img = cv2.imread('./images/0021.jpg')\n",
    "\n",
    "cv2.imshow('image',img)\n",
    "cv2.waitKey(0)\n",
    "cv2.destroyAllWindows()"
   ]
  },
  {
   "cell_type": "code",
   "execution_count": 4,
   "metadata": {},
   "outputs": [],
   "source": [
    "# load cascasde classifier - frontalface\n",
    "img = cv2.imread('./images/0021.jpg')\n",
    "\n",
    "face_cascade = cv2.CascadeClassifier('./cascade_classifier/haarcascade_frontalface_default.xml')"
   ]
  },
  {
   "cell_type": "code",
   "execution_count": 5,
   "metadata": {},
   "outputs": [],
   "source": [
    "# apply cascade classfier to an image;\n",
    "faces,num_detection = face_cascade.detectMultiScale2(img)"
   ]
  },
  {
   "cell_type": "code",
   "execution_count": 6,
   "metadata": {},
   "outputs": [
    {
     "name": "stdout",
     "output_type": "stream",
     "text": [
      "[[114  40 196 196]]\n"
     ]
    }
   ],
   "source": [
    "print(faces)"
   ]
  },
  {
   "cell_type": "code",
   "execution_count": 7,
   "metadata": {},
   "outputs": [
    {
     "name": "stdout",
     "output_type": "stream",
     "text": [
      "[89]\n"
     ]
    }
   ],
   "source": [
    "print(num_detection)"
   ]
  },
  {
   "cell_type": "code",
   "execution_count": 7,
   "metadata": {},
   "outputs": [],
   "source": [
    "pt1 = (114,40)\n",
    "pt2 = (114+196, 40+196)\n",
    "# draw the rectangle\n",
    "cv2.rectangle(img,pt1,pt2,(0,255,0))\n",
    "\n",
    "cv2.imshow('face detection',img)\n",
    "cv2.waitKey(0)\n",
    "cv2.destroyAllWindows()"
   ]
  },
  {
   "cell_type": "code",
   "execution_count": 8,
   "metadata": {},
   "outputs": [],
   "source": [
    "# draw the circle\n",
    "cx = 114 + 196//2\n",
    "cy = 40 + 196 //2\n",
    "r = 196 //2\n",
    "\n",
    "cv2.circle(img,(cx,cy),r,(0,255,255),2)\n",
    "cv2.imshow('face detection circle',img)\n",
    "cv2.waitKey(0)\n",
    "cv2.destroyAllWindows()"
   ]
  },
  {
   "cell_type": "markdown",
   "metadata": {},
   "source": [
    "# Multiple Face Detection"
   ]
  },
  {
   "cell_type": "code",
   "execution_count": 9,
   "metadata": {},
   "outputs": [],
   "source": [
    "img = cv2.imread('./images/friends.jpg')\n",
    "\n",
    "cv2.imshow('image',img)\n",
    "cv2.waitKey(0)\n",
    "cv2.destroyAllWindows()"
   ]
  },
  {
   "cell_type": "code",
   "execution_count": 10,
   "metadata": {},
   "outputs": [],
   "source": [
    "face_cascade = cv2.CascadeClassifier('./cascade_classifier/haarcascade_frontalface_default.xml')\n",
    "\n",
    "\n",
    "# step-1: apply cascade classifier to an image\n",
    "faces,num_detection = face_cascade.detectMultiScale2(img,minNeighbors=8)\n",
    "# step-2: run a loop\n",
    "for x,y,w,h in faces:\n",
    "    cv2.rectangle(img,(x,y),(x+w,y+h),(0,255,0))\n",
    "\n",
    "# step-3: display the image\n",
    "cv2.imshow('face detection',img)\n",
    "cv2.waitKey(0)\n",
    "cv2.destroyAllWindows()"
   ]
  },
  {
   "cell_type": "markdown",
   "metadata": {},
   "source": [
    "# Faces & Eyes Detection"
   ]
  },
  {
   "cell_type": "code",
   "execution_count": 17,
   "metadata": {},
   "outputs": [],
   "source": [
    "img = cv2.imread('./images/friends.jpg')\n",
    "\n",
    "cv2.imshow('image',img)\n",
    "cv2.waitKey(0)\n",
    "cv2.destroyAllWindows()"
   ]
  },
  {
   "cell_type": "code",
   "execution_count": 18,
   "metadata": {},
   "outputs": [],
   "source": [
    "face_cascade = cv2.CascadeClassifier('./cascade_classifier/haarcascade_frontalface_default.xml')\n",
    "eye_cascade = cv2.CascadeClassifier('./cascade_classifier/haarcascade_eye.xml')"
   ]
  },
  {
   "cell_type": "code",
   "execution_count": 13,
   "metadata": {},
   "outputs": [],
   "source": [
    "# step -1: Face Detection\n",
    "faces, num_detection_face =face_cascade.detectMultiScale2(img,minNeighbors=8)\n",
    "for x,y,w,h in faces:\n",
    "    cv2.rectangle(img,(x,y),(x+w,y+h),(0,255,0))\n",
    "    \n",
    "    # step -2: croping the face\n",
    "    face_roi = img[y:y+h,x:x+h] # croping the image\n",
    "    # step -3: apply to cascasde classifier (eye)\n",
    "    eyes,num_detection_eyes = eye_cascade.detectMultiScale2(face_roi)\n",
    "    for ex, ey, ew, eh in eyes:\n",
    "        cx = x+ex+ew//2\n",
    "        cy = y+ey+eh//2\n",
    "        r = eh //2\n",
    "        cv2.circle(img,(cx,cy),r,(255,0,255),2)\n",
    "        \n",
    "# step-3:\n",
    "cv2.imshow('face eye detection',img)\n",
    "cv2.waitKey(0)\n",
    "cv2.destroyAllWindows()"
   ]
  },
  {
   "cell_type": "markdown",
   "metadata": {},
   "source": [
    "# Faces , Eyes, Smiles Detection"
   ]
  },
  {
   "cell_type": "code",
   "execution_count": 21,
   "metadata": {},
   "outputs": [],
   "source": [
    "img = cv2.imread('./images/friends.jpg')\n",
    "\n",
    "cv2.imshow('image',img)\n",
    "cv2.waitKey(0)\n",
    "cv2.destroyAllWindows()"
   ]
  },
  {
   "cell_type": "code",
   "execution_count": 8,
   "metadata": {},
   "outputs": [
    {
     "ename": "",
     "evalue": "",
     "output_type": "error",
     "traceback": [
      "\u001b[1;31mThe Kernel crashed while executing code in the the current cell or a previous cell. Please review the code in the cell(s) to identify a possible cause of the failure. Click <a href='https://aka.ms/vscodeJupyterKernelCrash'>here</a> for more info. View Jupyter <a href='command:jupyter.viewOutput'>log</a> for further details."
     ]
    }
   ],
   "source": [
    "face_cascade = cv2.CascadeClassifier('./cascade_classifier/haarcascade_frontalface_default.xml')\n",
    "eye_cascade = cv2.CascadeClassifier('./cascade_classifier/haarcascade_eye.xml')\n",
    "smile_cascade = cv2.CascadeClassifier('./cascade_classifier/haarcascade_smile.xml')\n",
    "\n",
    "# step -1: Face Detection\n",
    "faces, num_detection_face =face_cascade.detectMultiScale2(img,minNeighbors=8)\n",
    "for x,y,w,h in faces:\n",
    "    face_roi = img[y:y+h,x:x+h].copy() # croping the image\n",
    "    cv2.rectangle(img,(x,y),(x+w,y+h),(0,255,0))\n",
    "    \n",
    "    \n",
    "    \n",
    "    # step -2: apply to cascasde classifier (eye)\n",
    "    eyes,num_detection_eyes = eye_cascade.detectMultiScale2(face_roi)\n",
    "    for ex, ey, ew, eh in eyes:\n",
    "        cx = x+ex+ew//2\n",
    "        cy = y+ey+eh//2\n",
    "        r = eh //2\n",
    "        cv2.circle(img,(cx,cy),r,(255,0,255),2)\n",
    "        \n",
    "    # step -3: smile detection\n",
    "    smiles , num_detection_smile = smile_cascade.detectMultiScale2(face_roi)\n",
    "    for sx,sy, sw,sh in smiles:\n",
    "        cv2.rectangle(img,(x+sx,y+sy),(x+sx+sw,y+sy+sh),(255,0,0),2)\n",
    "        \n",
    "    \n",
    "        \n",
    "# step-4:\n",
    "cv2.imshow('face eye smiles detection',img)\n",
    "cv2.waitKey(0)\n",
    "cv2.destroyAllWindows()"
   ]
  },
  {
   "cell_type": "code",
   "execution_count": null,
   "metadata": {},
   "outputs": [],
   "source": []
  },
  {
   "cell_type": "code",
   "execution_count": null,
   "metadata": {},
   "outputs": [],
   "source": []
  },
  {
   "cell_type": "code",
   "execution_count": null,
   "metadata": {},
   "outputs": [],
   "source": []
  },
  {
   "cell_type": "code",
   "execution_count": null,
   "metadata": {},
   "outputs": [],
   "source": []
  },
  {
   "cell_type": "code",
   "execution_count": null,
   "metadata": {},
   "outputs": [],
   "source": []
  },
  {
   "cell_type": "code",
   "execution_count": null,
   "metadata": {},
   "outputs": [],
   "source": []
  },
  {
   "cell_type": "code",
   "execution_count": null,
   "metadata": {},
   "outputs": [],
   "source": []
  },
  {
   "cell_type": "code",
   "execution_count": null,
   "metadata": {},
   "outputs": [],
   "source": []
  },
  {
   "cell_type": "code",
   "execution_count": null,
   "metadata": {},
   "outputs": [],
   "source": []
  }
 ],
 "metadata": {
  "kernelspec": {
   "display_name": "Python 3",
   "language": "python",
   "name": "python3"
  },
  "language_info": {
   "codemirror_mode": {
    "name": "ipython",
    "version": 3
   },
   "file_extension": ".py",
   "mimetype": "text/x-python",
   "name": "python",
   "nbconvert_exporter": "python",
   "pygments_lexer": "ipython3",
   "version": "3.10.8"
  },
  "vscode": {
   "interpreter": {
    "hash": "aee8b7b246df8f9039afb4144a1f6fd8d2ca17a180786b69acc140d282b71a49"
   }
  }
 },
 "nbformat": 4,
 "nbformat_minor": 4
}
